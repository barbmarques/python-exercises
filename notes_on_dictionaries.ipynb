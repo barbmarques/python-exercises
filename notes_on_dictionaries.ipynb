{
 "cells": [
  {
   "cell_type": "markdown",
   "metadata": {},
   "source": [
    "## <font color='red'> Notes - Python Dictionaries</font>"
   ]
  },
  {
   "cell_type": "markdown",
   "metadata": {},
   "source": [
    "### Python Collections (Arrays)\n",
    "\n",
    "There are four collection data types in the Python programming language:\n",
    "\n",
    "* **List** is a collection which is ordered and changeable. Allows duplicate members.\n",
    "* **Tuple** is a collection which is ordered and **unchangeable**. Allows duplicate members.\n",
    "* **Set** is a collection which is unordered and **unindexed**. **No duplicate** members.\n",
    "* **Dictionary** is a collection which is unordered and changeable. **No duplicate** members."
   ]
  },
  {
   "attachments": {},
   "cell_type": "markdown",
   "metadata": {},
   "source": [
    "<img src=\"http://www.trytoprogram.com/images/python_dictionary.jpg\" style=\"width:300px;height:150px\"/>\n",
    "\n",
    "### Python Dictionaries\n",
    "\n",
    "* a collection which is unordered, changeable and does not allow duplicates\n",
    "* stores data values in key:value pairs\n",
    "* Dictionaries are written with curly brackets, and have keys and values\n",
    "* Refer to items by keys, rather than by index\n"
   ]
  },
  {
   "cell_type": "markdown",
   "metadata": {},
   "source": [
    "### <font color='blue'>Creating Dictionaries<font>"
   ]
  },
  {
   "cell_type": "code",
   "execution_count": 1,
   "metadata": {
    "scrolled": true
   },
   "outputs": [
    {
     "name": "stdout",
     "output_type": "stream",
     "text": [
      "{'animal': 'dog', 'breed': 'Yorkie', 'gender': 'female', 'birth_year': 2008, 'weight_pounds': 5.1, 'nicknames': ['Zo-zo', 'Zamboey', 'Isabella']}\n",
      "{'animal': 'dog', 'breed': 'Labrador', 'gender': 'male', 'birth_year': 2020, 'weight_pounds': 62.5, 'nicknames': ['Harley-Barley', 'Barley-Boo', 'Har-Har']}\n",
      "{'animal': 'cat', 'gender': 'male', 'birth_year': 2019, 'weight_pounds': 7, 'nicknames': ['Mo-mo', 'T']}\n",
      "{'animal': 'gecko', 'breed': 'spotted leopard', 'gender': 'male', 'birth_year': 2018}\n",
      "<class 'dict'>\n",
      "<class 'str'>\n",
      "<class 'int'>\n",
      "<class 'float'>\n",
      "<class 'list'>\n"
     ]
    }
   ],
   "source": [
    "\n",
    "Zoey = {\"animal\": \"dog\", \"breed\": \"Yorkie\", \"gender\": \"female\", \"birth_year\": 2008, \"weight_pounds\": 5.1, \"nicknames\":[\"Zo-zo\", \"Zamboey\",\"Isabella\"]}\n",
    "Harley = {\"animal\": \"dog\", \"breed\": \"Labrador\", \"gender\": \"male\", \"birth_year\": 2020, \"weight_pounds\": 62.5, \"nicknames\":[\"Harley-Barley\", \"Barley-Boo\",\"Har-Har\"]}\n",
    "Mochi = {\"animal\": \"cat\", \"gender\": \"male\", \"birth_year\": 2019, \"weight_pounds\": 7, \"nicknames\":[\"Mo-mo\", \"T\",]}\n",
    "Cade = {\"animal\": \"gecko\", \"breed\": \"spotted leopard\", \"gender\": \"male\", \"birth_year\": 2018}\n",
    "\n",
    "print(Zoey)\n",
    "print(Harley)\n",
    "print(Mochi)\n",
    "print(Cade)\n",
    "\n",
    "#Note data types:\n",
    "print(type(Zoey)) #dictionary\n",
    "print(type(Zoey[\"breed\"])) # string\n",
    "print(type(Zoey[\"birth_year\"])) # integer\n",
    "print(type(Zoey[\"weight_pounds\"])) # float\n",
    "print(type(Zoey[\"nicknames\"]))# list"
   ]
  },
  {
   "cell_type": "markdown",
   "metadata": {},
   "source": [
    "### <font color='blue'>Items<font>\n",
    "\n",
    "* Items are unordered, changeable, and do not allow duplicates.\n",
    "\n",
    "* Items are presented in key:value pairs, and can be referred to by using the key name.\n",
    "\n"
   ]
  },
  {
   "cell_type": "code",
   "execution_count": 2,
   "metadata": {},
   "outputs": [
    {
     "name": "stdout",
     "output_type": "stream",
     "text": [
      "spotted leopard\n",
      "Yorkie\n",
      "male\n",
      "2019\n"
     ]
    }
   ],
   "source": [
    "# Examples of referring to a key:value pair\n",
    "\n",
    "print(Cade[\"breed\"])\n",
    "print(Zoey[\"breed\"])\n",
    "print(Harley[\"gender\"])\n",
    "print(Mochi[\"birth_year\"])\n",
    "\n"
   ]
  },
  {
   "cell_type": "markdown",
   "metadata": {},
   "source": [
    "* A duplicate item will overwrite itself."
   ]
  },
  {
   "cell_type": "code",
   "execution_count": 3,
   "metadata": {},
   "outputs": [
    {
     "name": "stdout",
     "output_type": "stream",
     "text": [
      "{'color': 'green', 'number': 14, 'sport': 'volleyball'}\n"
     ]
    }
   ],
   "source": [
    "# Example of overwriting an item\n",
    "my_favorites = {\"color\":\"blue\", \"number\":14,\"sport\":\"volleyball\",\"color\":\"green\"}\n",
    "print(my_favorites)"
   ]
  },
  {
   "cell_type": "markdown",
   "metadata": {},
   "source": [
    "* To determine how many items a dictionary has, use the ```len()``` function:"
   ]
  },
  {
   "cell_type": "code",
   "execution_count": 4,
   "metadata": {},
   "outputs": [
    {
     "data": {
      "text/plain": [
       "6"
      ]
     },
     "execution_count": 4,
     "metadata": {},
     "output_type": "execute_result"
    }
   ],
   "source": [
    "len(Zoey)"
   ]
  },
  {
   "cell_type": "code",
   "execution_count": 5,
   "metadata": {},
   "outputs": [
    {
     "data": {
      "text/plain": [
       "4"
      ]
     },
     "execution_count": 5,
     "metadata": {},
     "output_type": "execute_result"
    }
   ],
   "source": [
    "len(Cade)"
   ]
  },
  {
   "cell_type": "markdown",
   "metadata": {},
   "source": [
    "### <font color='blue'>Accessing Individual Dictionary Items<font>\n",
    "\n",
    "* You can access items of a dictionary by referring to its key name, inside square brackets:\n",
    "* You can use ```get``` to access items"
   ]
  },
  {
   "cell_type": "code",
   "execution_count": 6,
   "metadata": {},
   "outputs": [
    {
     "name": "stdout",
     "output_type": "stream",
     "text": [
      "spotted leopard\n"
     ]
    }
   ],
   "source": [
    "# access using []\n",
    "\n",
    "x = Cade[\"breed\"]\n",
    "print(x)\n",
    "\n"
   ]
  },
  {
   "cell_type": "code",
   "execution_count": 7,
   "metadata": {},
   "outputs": [
    {
     "name": "stdout",
     "output_type": "stream",
     "text": [
      "spotted leopard\n"
     ]
    }
   ],
   "source": [
    "# access using get()\n",
    "\n",
    "x = Cade.get(\"breed\")\n",
    "print(x)\n"
   ]
  },
  {
   "cell_type": "markdown",
   "metadata": {},
   "source": [
    "### <font color = 'blue'> Accessing Dictionary Keys <font>\n",
    "    \n",
    "* The ```keys()``` method will <font color = 'red'>**return a list of all the keys** <font> <font color = 'black'> in the dictionary.\n",
    "    \n",
    "* This is a good way to check if there have been changes to the dictionary. <font>"
   ]
  },
  {
   "cell_type": "code",
   "execution_count": 8,
   "metadata": {},
   "outputs": [
    {
     "data": {
      "text/plain": [
       "dict_keys(['animal', 'breed', 'gender', 'birth_year', 'weight_pounds', 'nicknames'])"
      ]
     },
     "execution_count": 8,
     "metadata": {},
     "output_type": "execute_result"
    }
   ],
   "source": [
    "#Example of how to list the keys in a dictionary\n",
    "Zoey.keys()"
   ]
  },
  {
   "cell_type": "markdown",
   "metadata": {},
   "source": [
    "### <font color = 'blue'> Accessing Dictionary Values <font>\n",
    "    \n",
    "* The ```values()``` method will <font color = 'red'>**return a list of all the values** <font> <font color = 'black'>in the dictionary. \n",
    "    "
   ]
  },
  {
   "cell_type": "code",
   "execution_count": 9,
   "metadata": {},
   "outputs": [
    {
     "data": {
      "text/plain": [
       "dict_values(['dog', 'Yorkie', 'female', 2008, 5.1, ['Zo-zo', 'Zamboey', 'Isabella']])"
      ]
     },
     "execution_count": 9,
     "metadata": {},
     "output_type": "execute_result"
    }
   ],
   "source": [
    "#Example of how to list the keys in a dictionary\n",
    "Zoey.values()"
   ]
  },
  {
   "cell_type": "markdown",
   "metadata": {},
   "source": [
    "### <font color = 'blue'> Accessing ALL Dictionary Items -- key:value <font>\n",
    "    \n",
    "* The ```items()``` method will <font color = 'red'>**return a list of all the items** <font> <font color = 'black'>in the dictionary as a **tuples list**. \n",
    "    \n",
    "* This is a good way to check if there have been changes to the dictionary. <font>"
   ]
  },
  {
   "cell_type": "code",
   "execution_count": 10,
   "metadata": {},
   "outputs": [
    {
     "data": {
      "text/plain": [
       "dict_items([('animal', 'dog'), ('breed', 'Yorkie'), ('gender', 'female'), ('birth_year', 2008), ('weight_pounds', 5.1), ('nicknames', ['Zo-zo', 'Zamboey', 'Isabella'])])"
      ]
     },
     "execution_count": 10,
     "metadata": {},
     "output_type": "execute_result"
    }
   ],
   "source": [
    "#Example of how to list the keys in a dictionary\n",
    "Zoey.items()"
   ]
  },
  {
   "cell_type": "markdown",
   "metadata": {},
   "source": [
    "### <font color = 'blue'> To Check if a Key Exists<font>\n",
    "    \n",
    "* To determine if a specified key is present in a dictionary use the ```in``` keyword\n",
    "    "
   ]
  },
  {
   "cell_type": "code",
   "execution_count": 11,
   "metadata": {},
   "outputs": [
    {
     "name": "stdout",
     "output_type": "stream",
     "text": [
      "Yes, 'nicknames' is one of the keys in the thisdict dictionary\n"
     ]
    }
   ],
   "source": [
    "if \"nicknames\" in Zoey:\n",
    "  print(\"Yes, 'nicknames' is one of the keys in the thisdict dictionary\")"
   ]
  },
  {
   "cell_type": "markdown",
   "metadata": {},
   "source": [
    "### <font color = 'blue'> To Change Values<font>\n",
    "    \n",
    "* You can change the value of a specific item by referring to its key name:\n",
    "    "
   ]
  },
  {
   "cell_type": "code",
   "execution_count": 12,
   "metadata": {},
   "outputs": [
    {
     "name": "stdout",
     "output_type": "stream",
     "text": [
      "{'animal': 'gecko', 'breed': 'spotted leopard', 'gender': 'male', 'birth_year': 2017}\n"
     ]
    }
   ],
   "source": [
    "Cade[\"birth_year\"] = 2017\n",
    "print(Cade)"
   ]
  },
  {
   "cell_type": "markdown",
   "metadata": {},
   "source": [
    "### <font color = 'blue'> Updating Dictionaries<font>\n",
    "    \n",
    "* The ```update()``` method will update the dictionary with the items from the given argument.\n",
    "\n",
    "* The argument must be a dictionary, or an iterable object with key:value pairs.\n",
    "    "
   ]
  },
  {
   "cell_type": "code",
   "execution_count": 13,
   "metadata": {},
   "outputs": [
    {
     "name": "stdout",
     "output_type": "stream",
     "text": [
      "{'animal': 'gecko', 'breed': 'spotted leopard', 'gender': 'female', 'birth_year': 2017}\n"
     ]
    }
   ],
   "source": [
    "Cade.update({\"gender\": \"female\"})\n",
    "print(Cade)"
   ]
  },
  {
   "cell_type": "markdown",
   "metadata": {},
   "source": [
    "### <font color = 'blue'> Adding Items to Dictionaries<font>\n",
    "    \n",
    "* Adding an item to the dictionary is done by using a new index key and assigning a value to it\n",
    "\n",
    "* The ```update()``` method will update the dictionary with the items from a given argument. **If the item does not exist, the item will be added.**  The argument must be a dictionary, or an iterable object with key:value pairs.\n",
    "    "
   ]
  },
  {
   "cell_type": "code",
   "execution_count": 14,
   "metadata": {},
   "outputs": [
    {
     "name": "stdout",
     "output_type": "stream",
     "text": [
      "{'animal': 'gecko', 'breed': 'spotted leopard', 'gender': 'female', 'birth_year': 2017, 'weight_pounds': 0.05}\n"
     ]
    }
   ],
   "source": [
    "# Example of adding an item:\n",
    "\n",
    "Cade[\"weight_pounds\"] = 0.05\n",
    "print(Cade)"
   ]
  },
  {
   "cell_type": "code",
   "execution_count": 15,
   "metadata": {},
   "outputs": [
    {
     "name": "stdout",
     "output_type": "stream",
     "text": [
      "{'animal': 'cat', 'gender': 'male', 'birth_year': 2019, 'weight_pounds': 7, 'nicknames': ['Mo-mo', 'T'], 'breed': 'mixed'}\n"
     ]
    }
   ],
   "source": [
    "# Example of adding an item with update():\n",
    "\n",
    "Mochi.update({\"breed\": \"mixed\"})\n",
    "print(Mochi)"
   ]
  },
  {
   "cell_type": "markdown",
   "metadata": {},
   "source": [
    "### <font color = 'blue'> Removing Items from Dictionaries <font>\n",
    "    \n",
    "There are several methods to remove items from a dictionary:\n",
    "\n",
    "* The ```pop()``` method removes the item with the specified key name:\n"
   ]
  },
  {
   "cell_type": "code",
   "execution_count": 16,
   "metadata": {},
   "outputs": [
    {
     "name": "stdout",
     "output_type": "stream",
     "text": [
      "{'animal': 'cat', 'gender': 'male', 'birth_year': 2019, 'weight_pounds': 7, 'nicknames': ['Mo-mo', 'T']}\n"
     ]
    }
   ],
   "source": [
    "# using .pop to remove and item\n",
    "\n",
    "Mochi.pop(\"breed\")\n",
    "print(Mochi)"
   ]
  },
  {
   "cell_type": "markdown",
   "metadata": {},
   "source": [
    "* The ```popitem()``` method removes the last inserted item (in versions before 3.7, a random item is removed instead):"
   ]
  },
  {
   "cell_type": "code",
   "execution_count": 17,
   "metadata": {},
   "outputs": [
    {
     "name": "stdout",
     "output_type": "stream",
     "text": [
      "{'animal': 'gecko', 'breed': 'spotted leopard', 'gender': 'female', 'birth_year': 2017}\n"
     ]
    }
   ],
   "source": [
    "Cade.popitem()\n",
    "print(Cade)"
   ]
  },
  {
   "cell_type": "markdown",
   "metadata": {},
   "source": [
    "* The ```del``` keyword removes the item with the specified key name.  <font color = 'red'> BE CAREFUL not to delete the entire dictionary. <font>"
   ]
  },
  {
   "cell_type": "code",
   "execution_count": 18,
   "metadata": {},
   "outputs": [
    {
     "name": "stdout",
     "output_type": "stream",
     "text": [
      "{'animal': 'cat', 'birth_year': 2019, 'weight_pounds': 7, 'nicknames': ['Mo-mo', 'T']}\n"
     ]
    }
   ],
   "source": [
    "Mochi = {\"animal\": \"cat\", \"gender\": \"male\", \"birth_year\": 2019, \"weight_pounds\": 7, \"nicknames\":[\"Mo-mo\", \"T\",]}\n",
    "\n",
    "del Mochi[\"gender\"]\n",
    "print(Mochi)"
   ]
  },
  {
   "cell_type": "markdown",
   "metadata": {},
   "source": [
    "----------------------------------------------------------------------\n",
    "####                              !    !    !    W A R N I N G    !    !    !\n",
    "\n",
    "* The ```del``` keyword can also be used to delete the dictionary completely\n",
    "* The ```clear()``` method empties the dictionary\n",
    "\n",
    "----------------------------------------------------------------------"
   ]
  },
  {
   "cell_type": "markdown",
   "metadata": {},
   "source": [
    "### <font color = 'blue'> Loop Through a Dictionary<font>\n",
    "You can loop through a dictionary by using a for loop.\n",
    "\n",
    "When looping through a dictionary, the return value are the keys of the dictionary, but there are methods to return the values as well.\n",
    "    \n",
    "* Print all **key names** in the dictionary, one by one:"
   ]
  },
  {
   "cell_type": "code",
   "execution_count": 19,
   "metadata": {},
   "outputs": [
    {
     "name": "stdout",
     "output_type": "stream",
     "text": [
      "animal\n",
      "breed\n",
      "gender\n",
      "birth_year\n",
      "weight_pounds\n",
      "nicknames\n"
     ]
    }
   ],
   "source": [
    "# Example to print key names: \n",
    "\n",
    "for x in Zoey:\n",
    "  print(x)"
   ]
  },
  {
   "cell_type": "markdown",
   "metadata": {},
   "source": [
    "* Print all **values** in the dictionary, one by one:"
   ]
  },
  {
   "cell_type": "code",
   "execution_count": 20,
   "metadata": {},
   "outputs": [
    {
     "name": "stdout",
     "output_type": "stream",
     "text": [
      "dog\n",
      "Yorkie\n",
      "female\n",
      "2008\n",
      "5.1\n",
      "['Zo-zo', 'Zamboey', 'Isabella']\n"
     ]
    }
   ],
   "source": [
    "for x in Zoey:\n",
    "  print(Zoey[x])"
   ]
  },
  {
   "cell_type": "markdown",
   "metadata": {},
   "source": [
    "* You can also use the ```values()``` method to return values of a dictionary:"
   ]
  },
  {
   "cell_type": "code",
   "execution_count": 21,
   "metadata": {},
   "outputs": [
    {
     "name": "stdout",
     "output_type": "stream",
     "text": [
      "dog\n",
      "Yorkie\n",
      "female\n",
      "2008\n",
      "5.1\n",
      "['Zo-zo', 'Zamboey', 'Isabella']\n"
     ]
    }
   ],
   "source": [
    "for x in Zoey.values():\n",
    "    print(x)"
   ]
  },
  {
   "cell_type": "markdown",
   "metadata": {},
   "source": [
    "* You can use the ```keys()``` method to return the keys of a dictionary:"
   ]
  },
  {
   "cell_type": "code",
   "execution_count": 22,
   "metadata": {},
   "outputs": [
    {
     "name": "stdout",
     "output_type": "stream",
     "text": [
      "animal\n",
      "breed\n",
      "gender\n",
      "birth_year\n",
      "weight_pounds\n",
      "nicknames\n"
     ]
    }
   ],
   "source": [
    "for x in Zoey.keys():\n",
    "    print(x)"
   ]
  },
  {
   "cell_type": "markdown",
   "metadata": {},
   "source": [
    "* Loop through **both keys and values**, by using the ```items()``` method:\n",
    "\n"
   ]
  },
  {
   "cell_type": "code",
   "execution_count": 23,
   "metadata": {},
   "outputs": [
    {
     "name": "stdout",
     "output_type": "stream",
     "text": [
      "animal dog\n",
      "breed Yorkie\n",
      "gender female\n",
      "birth_year 2008\n",
      "weight_pounds 5.1\n",
      "nicknames ['Zo-zo', 'Zamboey', 'Isabella']\n"
     ]
    }
   ],
   "source": [
    "for x, y in Zoey.items():\n",
    "    print(x, y) \n",
    "    \n",
    "# For readability try: print(x,':', y)"
   ]
  },
  {
   "cell_type": "markdown",
   "metadata": {},
   "source": [
    "### <font color = 'blue'> Copy a Dictionary<font>\n",
    "    \n",
    "You **cannot copy a dictionary simply by typing dict2 = dict1**, because: dict2 will only be a reference to dict1, and changes made in dict1 will automatically also be made in dict2.\n",
    "\n",
    "* There are ways to make a copy, one way is to use the built-in Dictionary method ```copy()```."
   ]
  },
  {
   "cell_type": "code",
   "execution_count": 24,
   "metadata": {},
   "outputs": [
    {
     "name": "stdout",
     "output_type": "stream",
     "text": [
      "{'animal': 'dog', 'breed': 'Yorkie', 'gender': 'female', 'birth_year': 2008, 'weight_pounds': 5.1, 'nicknames': ['Zo-zo', 'Zamboey', 'Isabella']}\n"
     ]
    }
   ],
   "source": [
    "# Example of copying a dictionary using copy()\n",
    "\n",
    "new_zoey = Zoey.copy()\n",
    "print(new_zoey)"
   ]
  },
  {
   "cell_type": "markdown",
   "metadata": {},
   "source": [
    "* Another way to make a copy is to use the built-in function ```dict()```."
   ]
  },
  {
   "cell_type": "code",
   "execution_count": 25,
   "metadata": {},
   "outputs": [
    {
     "name": "stdout",
     "output_type": "stream",
     "text": [
      "{'animal': 'cat', 'birth_year': 2019, 'weight_pounds': 7, 'nicknames': ['Mo-mo', 'T']}\n"
     ]
    }
   ],
   "source": [
    "# Example of copying a dictionary using dict()\n",
    "\n",
    "new_Mochi = dict(Mochi)\n",
    "print(new_Mochi)"
   ]
  },
  {
   "cell_type": "markdown",
   "metadata": {},
   "source": [
    "### <font color = 'blue'>Nested Dictionaries<font>\n",
    "    \n",
    "A dictionary can contain dictionaries, this is called **nested dictionaries**.\n",
    "    "
   ]
  },
  {
   "cell_type": "code",
   "execution_count": 26,
   "metadata": {},
   "outputs": [],
   "source": [
    "# Example\n",
    "# Create a dictionary that contain three dictionaries:\n",
    "\n",
    "myfamily = {\n",
    "  \"child1\" : {\n",
    "    \"name\" : \"Rachel\",\n",
    "    \"year\" : 2000\n",
    "  },\n",
    "  \"child2\" : {\n",
    "    \"name\" : \"Sarah\",\n",
    "    \"year\" : 2004\n",
    "  },\n",
    "  \"child3\" : {\n",
    "    \"name\" : \"Darrell\",\n",
    "    \"year\" : 1955\n",
    "  }\n",
    "}"
   ]
  },
  {
   "cell_type": "markdown",
   "metadata": {},
   "source": [
    "* Or, if you want to add three dictionaries into a new dictionary:"
   ]
  },
  {
   "cell_type": "code",
   "execution_count": 27,
   "metadata": {},
   "outputs": [],
   "source": [
    "# Example\n",
    "# Create three dictionaries, then create one dictionary that will contain the other three dictionaries:\n",
    "\n",
    "child1 = {\n",
    "  \"name\" : \"Emil\",\n",
    "  \"year\" : 2004\n",
    "}\n",
    "child2 = {\n",
    "  \"name\" : \"Tobias\",\n",
    "  \"year\" : 2007\n",
    "}\n",
    "child3 = {\n",
    "  \"name\" : \"Linus\",\n",
    "  \"year\" : 2011\n",
    "}\n",
    "\n",
    "myfamily = {\n",
    "  \"child1\" : child1,\n",
    "  \"child2\" : child2,\n",
    "  \"child3\" : child3\n",
    "}"
   ]
  },
  {
   "cell_type": "markdown",
   "metadata": {},
   "source": [
    "\n",
    "\n",
    "### <font color = 'blue'> Python Dictionary Methods <font> <font color = 'black'>\n",
    "    \n",
    "Python has a set of built-in methods that you can use on dictionaries.\n",
    "\n",
    "* **dict.clear( ):** Removes all the items from the dictionary.\n",
    "\n",
    "    \n",
    "* **dict.copy( ):** Returns the shallow copy of a dictionary.\n",
    "\n",
    "    \n",
    "* **dict.fromkeys(seq[, value] ):** Creates a new dictionary with keys from seq and values set to value.\n",
    "\n",
    "    \n",
    "* **dict.get(key ):** Returns corresponding value of key. If key doesn’t exist, then it returns none.\n",
    "\n",
    "    \n",
    "* **dict.has_key(key):** Returns true if ‘key’ exist in the dictionary.\n",
    "\n",
    "    \n",
    "* **dict.items( ):** Returns a new view of dictionary items.\n",
    "\n",
    "    \n",
    "* **dict.keys( ):** Returns the list of keys in the dictionary.\n",
    "\n",
    "    \n",
    "* **dict.pop(key):** Removes the items with key and returns the value to console. If the key doesn’t exist in the dictionary, it raises a TypeError.\n",
    "\n",
    "    \n",
    "* **dict.popitem( ):** Removes an arbitrary item in the dictionary and returns it to console.\n",
    "\n",
    "    \n",
    "* **dict.setdefault(key[, v]):** Returns corresponding value if the key exists already, else it inserts new key into the dictionary with the value of ‘v’ If v is empty, then value defaults to none.\n",
    "\n",
    "    \n",
    "* **dict.update(dict_x):** Updates the dictionary dict’s key/value pairs with that of from dict_x.\n",
    "\n",
    "    \n",
    "* **dict.values( ):** Returns the list of values of dictionary dict."
   ]
  },
  {
   "cell_type": "markdown",
   "metadata": {},
   "source": [
    "### <font color = 'blue'>Sources used in compiling these notes: <font>\n",
    "* https://www.w3schools.com/python/python_dictionaries.asp  \n",
    "* A Byte of Python: https://python.swaroopch.com\n",
    "* http://www.trytoprogram.com/python-programming/python-dictionary/"
   ]
  },
  {
   "cell_type": "code",
   "execution_count": null,
   "metadata": {},
   "outputs": [],
   "source": []
  }
 ],
 "metadata": {
  "kernelspec": {
   "display_name": "Python 3",
   "language": "python",
   "name": "python3"
  },
  "language_info": {
   "codemirror_mode": {
    "name": "ipython",
    "version": 3
   },
   "file_extension": ".py",
   "mimetype": "text/x-python",
   "name": "python",
   "nbconvert_exporter": "python",
   "pygments_lexer": "ipython3",
   "version": "3.8.5"
  }
 },
 "nbformat": 4,
 "nbformat_minor": 4
}
