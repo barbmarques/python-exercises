{
 "cells": [
  {
   "cell_type": "code",
   "execution_count": 12,
   "metadata": {},
   "outputs": [],
   "source": [
    "import json\n",
    "with open('source-data.json') as access_json:\n",
    "    read_content = json.load(access_json)\n"
   ]
  },
  {
   "cell_type": "code",
   "execution_count": 21,
   "metadata": {},
   "outputs": [
    {
     "data": {
      "text/plain": [
       "{'results': [{'_class': 'question',\n",
       "   'course': {'_class': 'course',\n",
       "    'title': 'Angular 7 (formerly Angular 2) - The Complete Guide',\n",
       "    'url': '/the-complete-guide-to-angular-2/'},\n",
       "   'replies': [{'_class': 'answer',\n",
       "     'user': {'_class': 'user',\n",
       "      'display_name': 'Maximilian Schwarzmueller'}}]},\n",
       "  {'_class': 'question',\n",
       "   'course': {'_class': 'course',\n",
       "    'title': 'Angular 7 (formerly Angular 2) - The Complete Guide',\n",
       "    'url': '/the-complete-guide-to-angular-2/'},\n",
       "   'replies': [{'_class': 'answer',\n",
       "     'user': {'_class': 'user', 'display_name': 'Maximilian Schwarzmueller'}},\n",
       "    {'_class': 'answer',\n",
       "     'user': {'_class': 'user', 'display_name': 'Daniel Weat'}}]},\n",
       "  {'_class': 'question',\n",
       "   'course': {'_class': 'course',\n",
       "    'title': 'Angular 7 (formerly Angular 2) - The Complete Guide',\n",
       "    'url': '/the-complete-guide-to-angular-2/'},\n",
       "   'replies': [{'_class': 'answer',\n",
       "     'user': {'_class': 'user', 'display_name': 'Maximilian Schwarzmueller'}},\n",
       "    {'_class': 'answer',\n",
       "     'user': {'_class': 'user', 'display_name': 'Mike Jauranol'}},\n",
       "    {'_class': 'answer',\n",
       "     'user': {'_class': 'user', 'display_name': 'Mike Jauranol'}},\n",
       "    {'_class': 'answer',\n",
       "     'user': {'_class': 'user',\n",
       "      'display_name': 'Maximilian Schwarzmueller'}}]},\n",
       "  {'_class': 'question',\n",
       "   'course': {'_class': 'course',\n",
       "    'title': 'Angular 7 (formerly Angular 2) - The Complete Guide',\n",
       "    'url': '/the-complete-guide-to-angular-2/'},\n",
       "   'replies': [{'_class': 'answer',\n",
       "     'user': {'_class': 'user',\n",
       "      'display_name': 'Maximilian Schwarzmueller'}}]},\n",
       "  {'_class': 'question',\n",
       "   'course': {'_class': 'course',\n",
       "    'title': 'Angular 7 (formerly Angular 2) - The Complete Guide',\n",
       "    'url': '/the-complete-guide-to-angular-2/'},\n",
       "   'replies': [{'_class': 'answer',\n",
       "     'user': {'_class': 'user', 'display_name': 'Maximilian Schwarzmueller'}},\n",
       "    {'_class': 'answer',\n",
       "     'user': {'_class': 'user', 'display_name': 'Bernd Raucher'}},\n",
       "    {'_class': 'answer',\n",
       "     'user': {'_class': 'user',\n",
       "      'display_name': 'Maximilian Schwarzmueller'}}]}]}"
      ]
     },
     "execution_count": 21,
     "metadata": {},
     "output_type": "execute_result"
    }
   ],
   "source": [
    "# view content -- which is a dictionary with a nested list of dictionaries\n",
    "\n",
    "read_content\n"
   ]
  },
  {
   "cell_type": "code",
   "execution_count": 22,
   "metadata": {},
   "outputs": [
    {
     "data": {
      "text/plain": [
       "dict"
      ]
     },
     "execution_count": 22,
     "metadata": {},
     "output_type": "execute_result"
    }
   ],
   "source": [
    "#read content is a dictionary {}  which contains a list [] of dictionaries {}\n",
    "\n",
    "type(read_content)"
   ]
  },
  {
   "cell_type": "code",
   "execution_count": 15,
   "metadata": {},
   "outputs": [],
   "source": [
    "# created variable to hold the list of dictionaries\n",
    "question_access = read_content[\"results\"]"
   ]
  },
  {
   "cell_type": "code",
   "execution_count": 23,
   "metadata": {},
   "outputs": [
    {
     "data": {
      "text/plain": [
       "list"
      ]
     },
     "execution_count": 23,
     "metadata": {},
     "output_type": "execute_result"
    }
   ],
   "source": [
    "# question_access is a list that contains dictionaries\n",
    "\n",
    "type(question_access)"
   ]
  },
  {
   "cell_type": "code",
   "execution_count": 16,
   "metadata": {},
   "outputs": [
    {
     "data": {
      "text/plain": [
       "[{'_class': 'question',\n",
       "  'course': {'_class': 'course',\n",
       "   'title': 'Angular 7 (formerly Angular 2) - The Complete Guide',\n",
       "   'url': '/the-complete-guide-to-angular-2/'},\n",
       "  'replies': [{'_class': 'answer',\n",
       "    'user': {'_class': 'user', 'display_name': 'Maximilian Schwarzmueller'}}]},\n",
       " {'_class': 'question',\n",
       "  'course': {'_class': 'course',\n",
       "   'title': 'Angular 7 (formerly Angular 2) - The Complete Guide',\n",
       "   'url': '/the-complete-guide-to-angular-2/'},\n",
       "  'replies': [{'_class': 'answer',\n",
       "    'user': {'_class': 'user', 'display_name': 'Maximilian Schwarzmueller'}},\n",
       "   {'_class': 'answer',\n",
       "    'user': {'_class': 'user', 'display_name': 'Daniel Weat'}}]},\n",
       " {'_class': 'question',\n",
       "  'course': {'_class': 'course',\n",
       "   'title': 'Angular 7 (formerly Angular 2) - The Complete Guide',\n",
       "   'url': '/the-complete-guide-to-angular-2/'},\n",
       "  'replies': [{'_class': 'answer',\n",
       "    'user': {'_class': 'user', 'display_name': 'Maximilian Schwarzmueller'}},\n",
       "   {'_class': 'answer',\n",
       "    'user': {'_class': 'user', 'display_name': 'Mike Jauranol'}},\n",
       "   {'_class': 'answer',\n",
       "    'user': {'_class': 'user', 'display_name': 'Mike Jauranol'}},\n",
       "   {'_class': 'answer',\n",
       "    'user': {'_class': 'user', 'display_name': 'Maximilian Schwarzmueller'}}]},\n",
       " {'_class': 'question',\n",
       "  'course': {'_class': 'course',\n",
       "   'title': 'Angular 7 (formerly Angular 2) - The Complete Guide',\n",
       "   'url': '/the-complete-guide-to-angular-2/'},\n",
       "  'replies': [{'_class': 'answer',\n",
       "    'user': {'_class': 'user', 'display_name': 'Maximilian Schwarzmueller'}}]},\n",
       " {'_class': 'question',\n",
       "  'course': {'_class': 'course',\n",
       "   'title': 'Angular 7 (formerly Angular 2) - The Complete Guide',\n",
       "   'url': '/the-complete-guide-to-angular-2/'},\n",
       "  'replies': [{'_class': 'answer',\n",
       "    'user': {'_class': 'user', 'display_name': 'Maximilian Schwarzmueller'}},\n",
       "   {'_class': 'answer',\n",
       "    'user': {'_class': 'user', 'display_name': 'Bernd Raucher'}},\n",
       "   {'_class': 'answer',\n",
       "    'user': {'_class': 'user', 'display_name': 'Maximilian Schwarzmueller'}}]}]"
      ]
     },
     "execution_count": 16,
     "metadata": {},
     "output_type": "execute_result"
    }
   ],
   "source": [
    "question_access\n"
   ]
  },
  {
   "cell_type": "code",
   "execution_count": 19,
   "metadata": {},
   "outputs": [
    {
     "data": {
      "text/plain": [
       "{'_class': 'question',\n",
       " 'course': {'_class': 'course',\n",
       "  'title': 'Angular 7 (formerly Angular 2) - The Complete Guide',\n",
       "  'url': '/the-complete-guide-to-angular-2/'},\n",
       " 'replies': [{'_class': 'answer',\n",
       "   'user': {'_class': 'user', 'display_name': 'Maximilian Schwarzmueller'}}]}"
      ]
     },
     "execution_count": 19,
     "metadata": {},
     "output_type": "execute_result"
    }
   ],
   "source": [
    "# demonstrating how to view the first item in our list\n",
    "\n",
    "question_access[0]"
   ]
  },
  {
   "cell_type": "code",
   "execution_count": 20,
   "metadata": {},
   "outputs": [
    {
     "name": "stdout",
     "output_type": "stream",
     "text": [
      "{'_class': 'question', 'course': {'_class': 'course', 'title': 'Angular 7 (formerly Angular 2) - The Complete Guide', 'url': '/the-complete-guide-to-angular-2/'}, 'replies': [{'_class': 'answer', 'user': {'_class': 'user', 'display_name': 'Maximilian Schwarzmueller'}}]}\n",
      "{'_class': 'question', 'course': {'_class': 'course', 'title': 'Angular 7 (formerly Angular 2) - The Complete Guide', 'url': '/the-complete-guide-to-angular-2/'}, 'replies': [{'_class': 'answer', 'user': {'_class': 'user', 'display_name': 'Maximilian Schwarzmueller'}}, {'_class': 'answer', 'user': {'_class': 'user', 'display_name': 'Daniel Weat'}}]}\n",
      "{'_class': 'question', 'course': {'_class': 'course', 'title': 'Angular 7 (formerly Angular 2) - The Complete Guide', 'url': '/the-complete-guide-to-angular-2/'}, 'replies': [{'_class': 'answer', 'user': {'_class': 'user', 'display_name': 'Maximilian Schwarzmueller'}}, {'_class': 'answer', 'user': {'_class': 'user', 'display_name': 'Mike Jauranol'}}, {'_class': 'answer', 'user': {'_class': 'user', 'display_name': 'Mike Jauranol'}}, {'_class': 'answer', 'user': {'_class': 'user', 'display_name': 'Maximilian Schwarzmueller'}}]}\n",
      "{'_class': 'question', 'course': {'_class': 'course', 'title': 'Angular 7 (formerly Angular 2) - The Complete Guide', 'url': '/the-complete-guide-to-angular-2/'}, 'replies': [{'_class': 'answer', 'user': {'_class': 'user', 'display_name': 'Maximilian Schwarzmueller'}}]}\n",
      "{'_class': 'question', 'course': {'_class': 'course', 'title': 'Angular 7 (formerly Angular 2) - The Complete Guide', 'url': '/the-complete-guide-to-angular-2/'}, 'replies': [{'_class': 'answer', 'user': {'_class': 'user', 'display_name': 'Maximilian Schwarzmueller'}}, {'_class': 'answer', 'user': {'_class': 'user', 'display_name': 'Bernd Raucher'}}, {'_class': 'answer', 'user': {'_class': 'user', 'display_name': 'Maximilian Schwarzmueller'}}]}\n"
     ]
    }
   ],
   "source": [
    "# demonstrating how to view all items{} in the list[].  (Each item is a dictionary)\n",
    "\n",
    "for question_data in question_access:\n",
    "    print(question_data)"
   ]
  },
  {
   "cell_type": "code",
   "execution_count": 24,
   "metadata": {},
   "outputs": [
    {
     "data": {
      "text/plain": [
       "dict"
      ]
     },
     "execution_count": 24,
     "metadata": {},
     "output_type": "execute_result"
    }
   ],
   "source": [
    "# demonstrating that question_data item is a dictionary\n",
    "\n",
    "type(question_data)"
   ]
  },
  {
   "cell_type": "code",
   "execution_count": 29,
   "metadata": {},
   "outputs": [
    {
     "data": {
      "text/plain": [
       "[{'_class': 'answer',\n",
       "  'user': {'_class': 'user', 'display_name': 'Maximilian Schwarzmueller'}},\n",
       " {'_class': 'answer',\n",
       "  'user': {'_class': 'user', 'display_name': 'Bernd Raucher'}},\n",
       " {'_class': 'answer',\n",
       "  'user': {'_class': 'user', 'display_name': 'Maximilian Schwarzmueller'}}]"
      ]
     },
     "execution_count": 29,
     "metadata": {},
     "output_type": "execute_result"
    }
   ],
   "source": [
    "replies_access = question_data[\"replies\"]\n",
    "replies_access\n",
    "                               "
   ]
  },
  {
   "cell_type": "code",
   "execution_count": 32,
   "metadata": {},
   "outputs": [
    {
     "name": "stdout",
     "output_type": "stream",
     "text": [
      "{'_class': 'answer', 'user': {'_class': 'user', 'display_name': 'Maximilian Schwarzmueller'}}\n",
      "{'_class': 'answer', 'user': {'_class': 'user', 'display_name': 'Bernd Raucher'}}\n",
      "{'_class': 'answer', 'user': {'_class': 'user', 'display_name': 'Maximilian Schwarzmueller'}}\n"
     ]
    }
   ],
   "source": [
    "for replies_data in replies_access:\n",
    "    print(replies_data)"
   ]
  },
  {
   "cell_type": "code",
   "execution_count": 36,
   "metadata": {},
   "outputs": [],
   "source": [
    "user_name = replies_data['user']['display_name']"
   ]
  },
  {
   "cell_type": "code",
   "execution_count": 34,
   "metadata": {},
   "outputs": [
    {
     "data": {
      "text/plain": [
       "'Maximilian Schwarzmueller'"
      ]
     },
     "execution_count": 34,
     "metadata": {},
     "output_type": "execute_result"
    }
   ],
   "source": [
    "user_name\n"
   ]
  },
  {
   "cell_type": "code",
   "execution_count": 47,
   "metadata": {},
   "outputs": [],
   "source": [
    "def get_user_names():\n",
    "    question_access = read_content[\"results\"]\n",
    "    for question_data in question_access:\n",
    "        replies_access = question_data[\"replies\"]\n",
    "        for replies_data in replies_access:\n",
    "            user_name = replies_data['user']['display_name']\n",
    "            save_data.append(user_name)"
   ]
  },
  {
   "cell_type": "code",
   "execution_count": 51,
   "metadata": {},
   "outputs": [],
   "source": [
    "get_user_names()"
   ]
  },
  {
   "cell_type": "code",
   "execution_count": 52,
   "metadata": {},
   "outputs": [
    {
     "name": "stdout",
     "output_type": "stream",
     "text": [
      "['Maximilian Schwarzmueller', 'Maximilian Schwarzmueller', 'Daniel Weat', 'Maximilian Schwarzmueller', 'Mike Jauranol', 'Mike Jauranol', 'Maximilian Schwarzmueller', 'Maximilian Schwarzmueller', 'Maximilian Schwarzmueller', 'Bernd Raucher', 'Maximilian Schwarzmueller']\n"
     ]
    }
   ],
   "source": [
    "print(save_data)"
   ]
  },
  {
   "cell_type": "code",
   "execution_count": null,
   "metadata": {},
   "outputs": [],
   "source": []
  }
 ],
 "metadata": {
  "kernelspec": {
   "display_name": "Python 3",
   "language": "python",
   "name": "python3"
  },
  "language_info": {
   "codemirror_mode": {
    "name": "ipython",
    "version": 3
   },
   "file_extension": ".py",
   "mimetype": "text/x-python",
   "name": "python",
   "nbconvert_exporter": "python",
   "pygments_lexer": "ipython3",
   "version": "3.8.5"
  }
 },
 "nbformat": 4,
 "nbformat_minor": 4
}
