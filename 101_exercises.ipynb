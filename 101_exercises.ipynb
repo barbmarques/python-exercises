{
  "nbformat": 4,
  "nbformat_minor": 0,
  "metadata": {
    "kernelspec": {
      "display_name": "Python 3",
      "language": "python",
      "name": "python3"
    },
    "language_info": {
      "codemirror_mode": {
        "name": "ipython",
        "version": 3
      },
      "file_extension": ".py",
      "mimetype": "text/x-python",
      "name": "python",
      "nbconvert_exporter": "python",
      "pygments_lexer": "ipython3",
      "version": "3.7.3"
    },
    "colab": {
      "name": "Copy of 101-exercises.ipynb",
      "provenance": [],
      "collapsed_sections": [],
      "include_colab_link": true
    }
  },
  "cells": [
    {
      "cell_type": "markdown",
      "metadata": {
        "id": "view-in-github",
        "colab_type": "text"
      },
      "source": [
        "<a href=\"https://colab.research.google.com/github/barbmarques/python-exercises/blob/main/101_exercises.ipynb\" target=\"_parent\"><img src=\"https://colab.research.google.com/assets/colab-badge.svg\" alt=\"Open In Colab\"/></a>"
      ]
    },
    {
      "cell_type": "markdown",
      "metadata": {
        "id": "LJFl9PfXPIwy"
      },
      "source": [
        "# Welcome to 101 Exercises for Python Fundamentals\n",
        "\n",
        "Solving these exercises will help make you a better programmer. Solve them in order, because each solution builds scaffolding, working code, and knowledge you can use on future problems. Read the directions carefully, and have fun!\n",
        "\n",
        "> \"Learning to program takes a little bit of study and a *lot* of practice\" - Luis Montealegre"
      ]
    },
    {
      "cell_type": "markdown",
      "metadata": {
        "id": "KPvMqASiPIwz"
      },
      "source": [
        "## Getting Started\n",
        "1. Go to https://colab.research.google.com/github/ryanorsinger/101-exercises/blob/main/101-exercises.ipynb\n",
        "2. To save your work to your Google Drive, go to File then \"Save Copy in Drive\".\n",
        "3. Your own work will now appear in your Google Drive account!\n",
        "\n",
        "If you need a fresh, blank copy of this document, go to https://colab.research.google.com/github/ryanorsinger/101-exercises/blob/main/101-exercises.ipynb and save a fresh copy in your Google Drive."
      ]
    },
    {
      "cell_type": "markdown",
      "metadata": {
        "id": "5bnbk7f9PIwz"
      },
      "source": [
        "## Orientation\n",
        "- This code notebook is composed of cells. Each cell is either text or Python code.\n",
        "- To run a cell of code, click the \"play button\" icon to the left of the cell or click on the cell and press \"Shift+Enter\" on your keyboard. This will execute the Python code contained in the cell. Executing a cell that defines a variable is important before executing or authoring a cell that depends on that previously created variable assignment.\n",
        "- **Expect to see lots of errors** the first time you load this page. \n",
        "- **Expect to see lots of errors** for all cells run without code that matches the assertion tests.\n",
        "- Until you click the blue \"Copy and Edit\" button to make your own copy, you will see an entire page of errors. This is part of the automated tests.\n",
        "- Each *assert* line is both an example and a test that tests for the presence and functionality of the instructed exercise. \n",
        "\n",
        "## The only 3 conditions that produce no errors:\n",
        "1. When you make a fresh **copy** of the project to your own account (by clicking \"Copy and Edit\")\n",
        "2. When you go to \"Run\" and then click \"Restart Session\"\n",
        "3. When every single assertion passes.\n",
        "\n",
        "\n",
        "## Outline\n",
        "- Each cell starts with a problem statement that describes the exercise to complete.\n",
        "- Underneath each problem statement, learners will need to write code to produce an answer.\n",
        "- The **assert** lines test to see that your code solves the problem appropriately\n",
        "- Many exercises will rely on previous solutions to be correctly completed\n",
        "- The `print(\"Exercise is complete\")` line will only run if your solution passes the assertion test(s)\n",
        "- Be sure to create programmatic solutions that will work for all inputs:\n",
        "- For example, calling the `is_even(2)` returns `True`, but your function should work for all even numbers, both positive and negative.\n",
        "\n",
        "\n",
        "## Guidance\n",
        "- Get Python to do the work for you. For example, if the exercise instructs you to reverse a list of numbers, your job is to find the \n",
        "- Save often by clicking the blue \"Save\" button.\n",
        "- If you need to clear the output or reset the notebook, go to \"Run\" then \"Restart Session\" to clear up any error messages.\n",
        "- Do not move or alter the lines of code that contain the `assert` statements. Those are what run your solution and test its actual output vs. expected outputs.\n",
        "- Seek to understand the problem before trying to solve it. Can you explain the problem to someone else in English? Can you explain the solution in English?\n",
        "- Slow down and read any error messages you encounter. Error messages provide insight into how to resolve the error. When in doubt, put your exact error into a search engine and look for results that reference an identical or similar problem.\n",
        "\n",
        "## Get Python To Do The Work For You\n",
        "One of the main jobs of a programming language is to help people solve problems programatically, so we don't have to do so much by hand. For example, it's easy for a person to manually reverse the list `[1, 2, 3]`, but imagine reversing a list of a million things or sorting a list of even a hundred things. When we write programmatic solutions in code, we are providing instructions to the computer to do a task. Computers follow the letter of the code, not the intent, and do exactly what they are told to do. In this way, Python can reverse a list of 3 numbers or 100 numbers or ten million numbers with the same instructions. Repetition is a key idea behind programming languages.\n",
        "\n",
        "This means that your task with these exercises is to determine a sequence of steps that solve the problem and then find the Python code that will run those instructions. If you're sorting or reversing things by hand, you're not doing it right!\n",
        "\n",
        "## How To Discover How To Do Something in Python\n",
        "1. The first step is to make sure you know what the problem is asking.\n",
        "2. The second step is to determine, in English (or your first spoken language), what steps you need to take.\n",
        "3. Use a search engine to look for code examples to identical or similar problems.\n",
        "\n",
        "One of the best ways to discover how to do things in Python is to use a search engine. Go to your favorite search engine and search for \"how to reverse a list in Python\" or \"how to sort a list in Python\". That's how both learners and professionals find answers and examples all the time. Search for what you want and add \"in Python\" and you'll get lots of code examples. Searching for \"How to sum a list of numbers in Python\" is a very effective way to discover exactly how to do that task."
      ]
    },
    {
      "cell_type": "markdown",
      "metadata": {
        "id": "DiWHOvvKPIw0"
      },
      "source": [
        "### Learning to Program and Code\n",
        "- You can make a new blank cell for Python code at any time in this document.\n",
        "- If you want more freedom to explore learning Python in a blank notebook, go here https://colab.research.google.com/#create=true and make yourself a blank, new notebook.\n",
        "- Programming is an intellectual activity of designing a solution. \"Coding\" means turning your programmatic solution into code w/ all the right syntax and parts of the programming language.\n",
        "- Expect to make mistakes and adopt the attitude that **the error message provides the information you need to proceed**. You will put lots of error messages into search engines to learn this craft!\n",
        "- Because computers have zero ability to read in between the lines or \"catch the drift\" or know what you mean, code only does what it is told to do.\n",
        "- Code doesn't do what you *want* it to do, code does what you've told it to do.\n",
        "- Before writing any code, figure out how you would solve the problem in spoken language to describe the sequence of steps in the solution.\n",
        "- Think about your solution in English (or your natural language). It's **critical** to solve the problem in your natural language before trying to get a programming language to do the work."
      ]
    },
    {
      "cell_type": "markdown",
      "metadata": {
        "id": "Ilxg3pUVPIw0"
      },
      "source": [
        "## Troubleshooting\n",
        "- If this entire document shows \"Name Error\" for many cells, it means you should read the \"Getting Started\" instructions above to make your own copy.\n",
        "- Be sure to commit your work to make save points, as you go.\n",
        "- If you load this page and you see your code but not the results of the code, be sure to run each cell (shift + Enter makes this quick)\n",
        "- \"Name Error\" means that you need to assign a variable or define the function as instructed.\n",
        "- \"Assertion Error\" means that your provided solution does not match the correct answer.\n",
        "- \"Type Error\" means that your data type provided is not accurate\n",
        "- If your kernel freezes, click on \"Run\" then select \"Restart Session\"\n",
        "- If you require additional troubleshooting assistance, click on \"Help\" and then \"Docs\" to access documentation for this platform.\n",
        "- If you have discoverd a bug or typo, please triple check your spelling then create a new issue at [https://github.com/ryanorsinger/101-exercises/issues](https://github.com/ryanorsinger/101-exercises/issues) to notify the author."
      ]
    },
    {
      "cell_type": "code",
      "metadata": {
        "_cell_guid": "79c7e3d0-c299-4dcb-8224-4455121ee9b0",
        "_uuid": "d629ff2d2480ee46fbb7e2d37f6b5fab8052498a",
        "id": "aZZnZlJqPIw0",
        "colab": {
          "base_uri": "https://localhost:8080/"
        },
        "outputId": "fa54ba74-e4e9-484a-c1eb-85c3ae16a6ee"
      },
      "source": [
        "# Example problem:\n",
        "# Uncomment the line below and run this cell.\n",
        "# The hashtag \"#\" character in a line of Python code is the comment character. \n",
        "doing_python_right_now = True\n",
        "\n",
        "# The lines below will test your answer. If you see an error, then it means that your answer is incorrect or incomplete.\n",
        "assert doing_python_right_now == True, \"If you see a NameError, it means that the variable is not created and assigned a value. An 'Assertion Error' means that the value of the variable is incorrect.\" \n",
        "print(\"Exercise 0 is correct\") # This line will print if your solution passes the assertion above."
      ],
      "execution_count": null,
      "outputs": [
        {
          "output_type": "stream",
          "text": [
            "Exercise 0 is correct\n"
          ],
          "name": "stdout"
        }
      ]
    },
    {
      "cell_type": "code",
      "metadata": {
        "id": "-BIE85BEPIw1",
        "colab": {
          "base_uri": "https://localhost:8080/"
        },
        "outputId": "892656e0-0399-4465-9148-ae444ad9c3d9"
      },
      "source": [
        "# Exercise 1\n",
        "# On the line below, create a variable named on_mars_right_now and assign it the boolean value of False\n",
        "\n",
        "on_mars_right_now = False\n",
        "\n",
        "assert on_mars_right_now == False, \"If you see a Name Error, be sure to create the variable and assign it a value.\"\n",
        "print(\"Exercise 1 is correct.\")"
      ],
      "execution_count": null,
      "outputs": [
        {
          "output_type": "stream",
          "text": [
            "Exercise 1 is correct.\n"
          ],
          "name": "stdout"
        }
      ]
    },
    {
      "cell_type": "code",
      "metadata": {
        "id": "0ajPvP94PIw1",
        "colab": {
          "base_uri": "https://localhost:8080/"
        },
        "outputId": "13c41153-f6fa-4212-91c6-ef7f7b25040b"
      },
      "source": [
        "# Exercise 2\n",
        "# Create a variable named fruits and assign it a list of fruits containing the following fruit names as strings: \n",
        "# mango, banana, guava, kiwi, and strawberry.\n",
        "\n",
        "fruits = ['mango', 'banana', 'guava', 'kiwi', 'strawberry']\n",
        "\n",
        "\n",
        "assert fruits == [\"mango\", \"banana\", \"guava\", \"kiwi\", \"strawberry\"], \"If you see an Assert Error, ensure the variable contains all the strings in the provided order\"\n",
        "print(\"Exercise 2 is correct.\")"
      ],
      "execution_count": null,
      "outputs": [
        {
          "output_type": "stream",
          "text": [
            "Exercise 2 is correct.\n"
          ],
          "name": "stdout"
        }
      ]
    },
    {
      "cell_type": "code",
      "metadata": {
        "id": "gAkpSXAKPIw1",
        "colab": {
          "base_uri": "https://localhost:8080/"
        },
        "outputId": "b2280211-f97d-46dc-f2da-2720e9abd386"
      },
      "source": [
        "# Exercise 3\n",
        "# Create a variable named vegetables and assign it a list of fruits containing the following vegetable names as strings: \n",
        "# eggplant, broccoli, carrot, cauliflower, and zucchini\n",
        "\n",
        "vegetables = ['eggplant', 'broccoli', 'carrot', 'cauliflower', 'zucchini']\n",
        "\n",
        "assert vegetables == [\"eggplant\", \"broccoli\", \"carrot\", \"cauliflower\", \"zucchini\"], \"Ensure the variable contains all the strings in the provided order\"\n",
        "print(\"Exercise 3 is correct.\")"
      ],
      "execution_count": null,
      "outputs": [
        {
          "output_type": "stream",
          "text": [
            "Exercise 3 is correct.\n"
          ],
          "name": "stdout"
        }
      ]
    },
    {
      "cell_type": "code",
      "metadata": {
        "id": "Kc2M1L8DPIw2",
        "colab": {
          "base_uri": "https://localhost:8080/"
        },
        "outputId": "ccb4df0c-fe5c-4325-ceaf-a59a9792b481"
      },
      "source": [
        "# Exercise 4\n",
        "# Create a variable named numbers and assign it a list of numbers, 1, 2, 3, 4, 5, 6, 7, 8, 9, 10\n",
        "\n",
        "numbers = [1, 2, 3, 4, 5, 6, 7, 8, 9, 10]\n",
        "\n",
        "assert numbers == [1, 2, 3, 4, 5, 6, 7, 8, 9, 10], \"Ensure the variable contains the numbers 1-10 in order.\"\n",
        "print(\"Exercise 4 is correct.\")"
      ],
      "execution_count": null,
      "outputs": [
        {
          "output_type": "stream",
          "text": [
            "Exercise 4 is correct.\n"
          ],
          "name": "stdout"
        }
      ]
    },
    {
      "cell_type": "markdown",
      "metadata": {
        "id": "xmTKoXWQPIw2"
      },
      "source": [
        "## List Operations\n",
        "**Hint** Recommend finding and using built-in Python functionality whenever possible."
      ]
    },
    {
      "cell_type": "code",
      "metadata": {
        "id": "3tlNCCNJPIw2",
        "colab": {
          "base_uri": "https://localhost:8080/"
        },
        "outputId": "0c3c0502-ac18-4b3c-bcc2-63f1a65e2dcd"
      },
      "source": [
        "# Exercise 5\n",
        "# Given the following assigment of the list of fruits, add \"tomato\" to the end of the list. \n",
        "fruits = [\"mango\", \"banana\", \"guava\", \"kiwi\", \"strawberry\"]\n",
        "\n",
        "fruits.append('tomato')\n",
        "\n",
        "assert fruits == [\"mango\", \"banana\", \"guava\", \"kiwi\", \"strawberry\", \"tomato\"], \"Ensure the variable contains all the strings in the right order\"\n",
        "print(\"Exercise 5 is correct\")"
      ],
      "execution_count": null,
      "outputs": [
        {
          "output_type": "stream",
          "text": [
            "Exercise 5 is correct\n"
          ],
          "name": "stdout"
        }
      ]
    },
    {
      "cell_type": "code",
      "metadata": {
        "id": "Zz3mfbfXPIw2",
        "colab": {
          "base_uri": "https://localhost:8080/"
        },
        "outputId": "7e7cb2a1-160c-46a0-97c9-aa42d3a78510"
      },
      "source": [
        "# Exercise 6\n",
        "# Given the following assignment of the vegetables list, add \"tomato\" to the end of the list.\n",
        "vegetables = [\"eggplant\", \"broccoli\", \"carrot\", \"cauliflower\", \"zucchini\"]\n",
        "\n",
        "vegetables.append('tomato')\n",
        "assert vegetables == [\"eggplant\", \"broccoli\", \"carrot\", \"cauliflower\", \"zucchini\", \"tomato\"], \"Ensure the variable contains all the strings in the provided order\"\n",
        "print(\"Exercise 6 is correct\")"
      ],
      "execution_count": null,
      "outputs": [
        {
          "output_type": "stream",
          "text": [
            "Exercise 6 is correct\n"
          ],
          "name": "stdout"
        }
      ]
    },
    {
      "cell_type": "code",
      "metadata": {
        "id": "NVTskxgOPIw3",
        "colab": {
          "base_uri": "https://localhost:8080/"
        },
        "outputId": "503cc475-3650-4c54-a8fe-3a1fb75e3130"
      },
      "source": [
        "# Exercise 7\n",
        "# Given the list of numbers defined below, reverse the list of numbers that you created above. \n",
        "numbers = [1, 2, 3, 4, 5, 6, 7, 8, 9, 10]\n",
        "\n",
        "numbers.reverse()\n",
        "\n",
        "assert numbers == [10, 9, 8, 7, 6, 5, 4, 3, 2, 1], \"Assert Error means that the answer is incorrect.\" \n",
        "print(\"Exercise 7 is correct.\")"
      ],
      "execution_count": null,
      "outputs": [
        {
          "output_type": "stream",
          "text": [
            "Exercise 7 is correct.\n"
          ],
          "name": "stdout"
        }
      ]
    },
    {
      "cell_type": "code",
      "metadata": {
        "id": "L0DEaTwRPIw3",
        "colab": {
          "base_uri": "https://localhost:8080/"
        },
        "outputId": "19da775a-7d42-4677-8926-745fd2bd558a"
      },
      "source": [
        "# Exercise 8\n",
        "# Sort the vegetables in alphabetical order\n",
        "\n",
        "vegetables.sort()\n",
        "\n",
        "assert vegetables == ['broccoli', 'carrot', 'cauliflower', 'eggplant', 'tomato', 'zucchini']\n",
        "print(\"Exercise 8 is correct.\")"
      ],
      "execution_count": null,
      "outputs": [
        {
          "output_type": "stream",
          "text": [
            "Exercise 8 is correct.\n"
          ],
          "name": "stdout"
        }
      ]
    },
    {
      "cell_type": "code",
      "metadata": {
        "id": "NTV2xJMAPIw3",
        "colab": {
          "base_uri": "https://localhost:8080/"
        },
        "outputId": "d3e127db-ec03-4538-b60d-45fdf4c1bd7f"
      },
      "source": [
        "# Exercise 9\n",
        "# Write the code necessary to sort the fruits in reverse alphabetical order\n",
        "\n",
        "fruits.sort(reverse = True)\n",
        "\n",
        "\n",
        "assert fruits == ['tomato', 'strawberry', 'mango', 'kiwi', 'guava', 'banana']\n",
        "print(\"Exercise 9 is correct.\")"
      ],
      "execution_count": null,
      "outputs": [
        {
          "output_type": "stream",
          "text": [
            "Exercise 9 is correct.\n"
          ],
          "name": "stdout"
        }
      ]
    },
    {
      "cell_type": "code",
      "metadata": {
        "id": "6vi2nCO-PIw3",
        "colab": {
          "base_uri": "https://localhost:8080/"
        },
        "outputId": "2444bf63-1b30-446b-e6fc-776564ba32d4"
      },
      "source": [
        "# Exercise 10\n",
        "# Write the code necessary to produce a single list that holds all fruits then all vegetables in the order as they were sorted above.\n",
        "fruits_and_veggies = fruits + vegetables\n",
        "assert fruits_and_veggies == ['tomato', 'strawberry', 'mango', 'kiwi', 'guava', 'banana', 'broccoli', 'carrot', 'cauliflower', 'eggplant', 'tomato', 'zucchini']\n",
        "print(\"Exercise 10 is correct\")"
      ],
      "execution_count": null,
      "outputs": [
        {
          "output_type": "stream",
          "text": [
            "Exercise 10 is correct\n"
          ],
          "name": "stdout"
        }
      ]
    },
    {
      "cell_type": "markdown",
      "metadata": {
        "id": "KC2XflqYPIw4"
      },
      "source": [
        "## Basic Functions\n",
        "![](http://)**Hint** Be sure to `return` values from your function definitions. The assert statements will call your function(s) for you."
      ]
    },
    {
      "cell_type": "code",
      "metadata": {
        "id": "h10xy_-yPIw4",
        "colab": {
          "base_uri": "https://localhost:8080/"
        },
        "outputId": "846ed4ac-c736-49a0-f1b2-2e43a5fc6449"
      },
      "source": [
        "# Run this cell in order to generate some numbers to use in our functions after this.\n",
        "import random\n",
        "    \n",
        "positive_even_number = random.randrange(2, 101, 2)\n",
        "negative_even_number = random.randrange(-100, -1, 2)\n",
        "\n",
        "positive_odd_number = random.randrange(1, 100, 2)\n",
        "negative_odd_number = random.randrange(-101, 0, 2)\n",
        "print(\"We now have some random numbers available for future exercises.\")\n",
        "print(\"The random positive even number is\", positive_even_number)\n",
        "print(\"The random positive odd nubmer is\", positive_odd_number)\n",
        "print(\"The random negative even number\", negative_even_number)\n",
        "print(\"The random negative odd number\", negative_odd_number)\n"
      ],
      "execution_count": null,
      "outputs": [
        {
          "output_type": "stream",
          "text": [
            "We now have some random numbers available for future exercises.\n",
            "The random positive even number is 18\n",
            "The random positive odd nubmer is 9\n",
            "The random negative even number -88\n",
            "The random negative odd number -97\n"
          ],
          "name": "stdout"
        }
      ]
    },
    {
      "cell_type": "code",
      "metadata": {
        "id": "tQx-NXK1PIw4",
        "colab": {
          "base_uri": "https://localhost:8080/"
        },
        "outputId": "86551fc6-7a3a-4951-864a-70137672f916"
      },
      "source": [
        "# Example function defintion:\n",
        "# Write a say_hello function that adds the string \"Hello, \" to the beginning and \"!\" to the end of any given input.\n",
        "def say_hello(name):\n",
        "    return \"Hello, \" + name + \"!\"\n",
        "\n",
        "assert say_hello(\"Jane\") == \"Hello, Jane!\", \"Double check the inputs and data types\"\n",
        "assert say_hello(\"Pat\") == \"Hello, Pat!\", \"Double check the inputs and data types\"\n",
        "assert say_hello(\"Astrud\") == \"Hello, Astrud!\", \"Double check the inputs and data types\"\n",
        "print(\"The example function definition ran appropriately\")"
      ],
      "execution_count": null,
      "outputs": [
        {
          "output_type": "stream",
          "text": [
            "The example function definition ran appropriately\n"
          ],
          "name": "stdout"
        }
      ]
    },
    {
      "cell_type": "code",
      "metadata": {
        "id": "t9MV_H3_PIw5",
        "colab": {
          "base_uri": "https://localhost:8080/"
        },
        "outputId": "c7281f24-e42e-400b-cef4-e60ee48fd7ac"
      },
      "source": [
        "# Another example function definition:\n",
        "# This plus_two function takes in a variable and adds 2 to it.\n",
        "def plus_two(number):\n",
        "    return number + 2\n",
        "\n",
        "assert plus_two(3) == 5\n",
        "assert plus_two(0) == 2\n",
        "assert plus_two(-2) == 0\n",
        "print(\"The plus_two assertions executed appropriately... The second function definition example executed appropriately.\")"
      ],
      "execution_count": null,
      "outputs": [
        {
          "output_type": "stream",
          "text": [
            "The plus_two assertions executed appropriately... The second function definition example executed appropriately.\n"
          ],
          "name": "stdout"
        }
      ]
    },
    {
      "cell_type": "code",
      "metadata": {
        "id": "a_XEgzqdPIw5",
        "colab": {
          "base_uri": "https://localhost:8080/"
        },
        "outputId": "4443b805-f7b1-4894-b906-c0a05cc99658"
      },
      "source": [
        "# Exercise 11\n",
        "# Write a function definition for a function named add_one that takes in a number and returns that number plus one.\n",
        "\n",
        "def add_one(x):\n",
        "  new = x + 1\n",
        "  return new\n",
        "    \n",
        "assert add_one(2) == 3, \"Ensure that the function is defined, named properly, and returns the correct value\"\n",
        "assert add_one(0) == 1, \"Zero plus one is one.\"\n",
        "assert add_one(positive_even_number) == positive_even_number + 1, \"Ensure that the function is defined, named properly, and returns the correct value\"\n",
        "assert add_one(negative_odd_number) == negative_odd_number + 1, \"Ensure that the function is defined, named properly, and returns the correct value\"\n",
        "print(\"Exercise 11 is correct.\") "
      ],
      "execution_count": null,
      "outputs": [
        {
          "output_type": "stream",
          "text": [
            "Exercise 11 is correct.\n"
          ],
          "name": "stdout"
        }
      ]
    },
    {
      "cell_type": "code",
      "metadata": {
        "id": "HmdKeGtfPIw5",
        "colab": {
          "base_uri": "https://localhost:8080/"
        },
        "outputId": "aa2c6552-499f-46b4-cc5e-e3d9fea9a237"
      },
      "source": [
        "# Exercise 12\n",
        "# Write a function definition named is_positive that takes in a number and returns True or False if that number is positive.\n",
        "\n",
        "def is_positive(x):\n",
        "  return x > 0\n",
        "\n",
        "\n",
        "assert is_positive(positive_odd_number) == True, \"Ensure that the function is defined, named properly, and returns the correct value\"\n",
        "assert is_positive(positive_even_number) == True, \"Ensure that the function is defined, named properly, and returns the correct value\"\n",
        "assert is_positive(negative_odd_number) == False, \"Ensure that the function is defined, named properly, and returns the correct value\"\n",
        "assert is_positive(negative_even_number) == False, \"Ensure that the function is defined, named properly, and returns the correct value\"\n",
        "print(\"Exercise 12 is correct.\")"
      ],
      "execution_count": null,
      "outputs": [
        {
          "output_type": "stream",
          "text": [
            "Exercise 12 is correct.\n"
          ],
          "name": "stdout"
        }
      ]
    },
    {
      "cell_type": "code",
      "metadata": {
        "id": "RHh4UHWxPIw6",
        "colab": {
          "base_uri": "https://localhost:8080/"
        },
        "outputId": "7f0dff9f-2299-4a07-f898-e4d5023196ed"
      },
      "source": [
        "# Exercise 13\n",
        "# Write a function definition named is_negative that takes in a number and returns True or False if that number is negative.\n",
        "\n",
        "def is_negative(x):\n",
        "  return x < 0\n",
        "\n",
        "assert is_negative(positive_odd_number) == False, \"Ensure that the function is defined, named properly, and returns the correct value\"\n",
        "assert is_negative(positive_even_number) == False, \"Ensure that the function is defined, named properly, and returns the correct value\"\n",
        "assert is_negative(negative_odd_number) == True, \"Ensure that the function is defined, named properly, and returns the correct value\"\n",
        "assert is_negative(negative_even_number) == True, \"Ensure that the function is defined, named properly, and returns the correct value\"\n",
        "print(\"Exercise 13 is correct.\")"
      ],
      "execution_count": null,
      "outputs": [
        {
          "output_type": "stream",
          "text": [
            "Exercise 13 is correct.\n"
          ],
          "name": "stdout"
        }
      ]
    },
    {
      "cell_type": "code",
      "metadata": {
        "id": "ZCgeacSePIw6",
        "colab": {
          "base_uri": "https://localhost:8080/"
        },
        "outputId": "19a18475-a19e-46d8-f138-2991aec23acb"
      },
      "source": [
        "# Exercise 14\n",
        "# Write a function definition named is_odd that takes in a number and returns True or False if that number is odd.\n",
        "\n",
        "def is_odd(x):\n",
        "  return x % 2 != 0\n",
        "\n",
        "assert is_odd(positive_odd_number) == True, \"Ensure that the function is defined, named properly, and returns the correct value\"\n",
        "assert is_odd(positive_even_number) == False, \"Ensure that the function is defined, named properly, and returns the correct value\"\n",
        "assert is_odd(negative_odd_number) == True, \"Ensure that the function is defined, named properly, and returns the correct value\"\n",
        "assert is_odd(negative_even_number) == False, \"Ensure that the function is defined, named properly, and returns the correct value\"\n",
        "print(\"Exercise 14 is correct.\")"
      ],
      "execution_count": null,
      "outputs": [
        {
          "output_type": "stream",
          "text": [
            "Exercise 14 is correct.\n"
          ],
          "name": "stdout"
        }
      ]
    },
    {
      "cell_type": "code",
      "metadata": {
        "id": "FkOEbTlpPIw6",
        "colab": {
          "base_uri": "https://localhost:8080/"
        },
        "outputId": "23547fc5-058a-4ae1-faaf-98059fb81468"
      },
      "source": [
        "# Exercise 15\n",
        "# Write a function definition named is_even that takes in a number and returns True or False if that number is even.\n",
        "\n",
        "def is_even(x):\n",
        "  return x % 2 == 0\n",
        "\n",
        "assert is_even(2) == True, \"Ensure that the function is defined, named properly, and returns the correct value\"\n",
        "assert is_even(positive_odd_number) == False, \"Ensure that the function is defined, named properly, and returns the correct value\"\n",
        "assert is_even(positive_even_number) == True, \"Ensure that the function is defined, named properly, and returns the correct value\"\n",
        "assert is_even(negative_odd_number) == False, \"Ensure that the function is defined, named properly, and returns the correct value\"\n",
        "assert is_even(negative_even_number) == True, \"Ensure that the function is defined, named properly, and returns the correct value\"\n",
        "print(\"Exercise 15 is correct.\")"
      ],
      "execution_count": null,
      "outputs": [
        {
          "output_type": "stream",
          "text": [
            "Exercise 15 is correct.\n"
          ],
          "name": "stdout"
        }
      ]
    },
    {
      "cell_type": "code",
      "metadata": {
        "id": "UfvFIuD3PIw6",
        "colab": {
          "base_uri": "https://localhost:8080/"
        },
        "outputId": "8df9fe41-92fe-4fc3-aaee-bac99079fc04"
      },
      "source": [
        "# Exercise 16\n",
        "# Write a function definition named identity that takes in any argument and returns that argument's value. Don't overthink this one!\n",
        "\n",
        "def identity(x):\n",
        "  return x\n",
        "\n",
        "assert identity(fruits) == fruits, \"Ensure that the function is defined, named properly, and returns the correct value\"\n",
        "assert identity(vegetables) == vegetables, \"Ensure that the function is defined, named properly, and returns the correct value\"\n",
        "assert identity(positive_odd_number) == positive_odd_number, \"Ensure that the function is defined, named properly, and returns the correct value\"\n",
        "assert identity(positive_even_number) == positive_even_number, \"Ensure that the function is defined, named properly, and returns the correct value\"\n",
        "assert identity(negative_odd_number) == negative_odd_number, \"Ensure that the function is defined, named properly, and returns the correct value\"\n",
        "assert identity(negative_even_number) == negative_even_number, \"Ensure that the function is defined, named properly, and returns the correct value\"\n",
        "print(\"Exercise 16 is correct.\")"
      ],
      "execution_count": null,
      "outputs": [
        {
          "output_type": "stream",
          "text": [
            "Exercise 16 is correct.\n"
          ],
          "name": "stdout"
        }
      ]
    },
    {
      "cell_type": "code",
      "metadata": {
        "id": "fOqxtjmYPIw6",
        "colab": {
          "base_uri": "https://localhost:8080/"
        },
        "outputId": "c7a93497-11b0-4513-a650-b311f9cc80a9"
      },
      "source": [
        "# Exercise 17\n",
        "# Write a function definition named is_positive_odd that takes in a number and returns True or False if the value is both greater than zero and odd\n",
        "\n",
        "def is_positive_odd(x):\n",
        "  return (x > 0) and (x % 2 != 0)\n",
        "\n",
        "assert is_positive_odd(3) == True, \"Double check your syntax and logic\" \n",
        "assert is_positive_odd(positive_odd_number) == True, \"Double check your syntax and logic\"\n",
        "assert is_positive_odd(positive_even_number) == False, \"Double check your syntax and logic\"\n",
        "assert is_positive_odd(negative_odd_number) == False, \"Double check your syntax and logic\"\n",
        "assert is_positive_odd(negative_even_number) == False, \"Double check your syntax and logic\"\n",
        "print(\"Exercise 17 is correct.\")"
      ],
      "execution_count": null,
      "outputs": [
        {
          "output_type": "stream",
          "text": [
            "Exercise 17 is correct.\n"
          ],
          "name": "stdout"
        }
      ]
    },
    {
      "cell_type": "code",
      "metadata": {
        "id": "gDCB046VPIw7",
        "colab": {
          "base_uri": "https://localhost:8080/"
        },
        "outputId": "507abbae-d07a-4bf1-a9ee-8798eab19b39"
      },
      "source": [
        "# Exercise 18\n",
        "# Write a function definition named is_positive_even that takes in a number and returns True or False if the value is both greater than zero and even\n",
        "\n",
        "def is_positive_even(x):\n",
        "  return (x > 0) and (x % 2 == 0)\n",
        "\n",
        "assert is_positive_even(4) == True, \"Double check your syntax and logic\" \n",
        "assert is_positive_even(positive_odd_number) == False, \"Double check your syntax and logic\"\n",
        "assert is_positive_even(positive_even_number) == True, \"Double check your syntax and logic\"\n",
        "assert is_positive_even(negative_odd_number) == False, \"Double check your syntax and logic\"\n",
        "assert is_positive_even(negative_even_number) == False, \"Double check your syntax and logic\"\n",
        "print(\"Exercise 18 is correct.\")"
      ],
      "execution_count": null,
      "outputs": [
        {
          "output_type": "stream",
          "text": [
            "Exercise 18 is correct.\n"
          ],
          "name": "stdout"
        }
      ]
    },
    {
      "cell_type": "code",
      "metadata": {
        "id": "5_1DluUoPIw7",
        "colab": {
          "base_uri": "https://localhost:8080/"
        },
        "outputId": "2db0423c-faf2-46ce-d6d5-0e8ece7f7c51"
      },
      "source": [
        "# Exercise 19\n",
        "# Write a function definition named is_negative_odd that takes in a number and returns True or False if the value is both less than zero and odd.\n",
        "\n",
        "\n",
        "def is_negative_odd(x):\n",
        "  return (x < 0) and (x % 2 != 0)\n",
        "\n",
        "assert is_negative_odd(-3) == True, \"Double check your syntax and logic\" \n",
        "assert is_negative_odd(positive_odd_number) == False, \"Double check your syntax and logic\"\n",
        "assert is_negative_odd(positive_even_number) == False, \"Double check your syntax and logic\"\n",
        "assert is_negative_odd(negative_odd_number) == True, \"Double check your syntax and logic\"\n",
        "assert is_negative_odd(negative_even_number) == False, \"Double check your syntax and logic\"\n",
        "print(\"Exercise 19 is correct.\")\n"
      ],
      "execution_count": null,
      "outputs": [
        {
          "output_type": "stream",
          "text": [
            "Exercise 19 is correct.\n"
          ],
          "name": "stdout"
        }
      ]
    },
    {
      "cell_type": "code",
      "metadata": {
        "id": "X2Q3m0kePIw7",
        "colab": {
          "base_uri": "https://localhost:8080/"
        },
        "outputId": "9699b9e7-3841-4c83-aec2-1c152a014413"
      },
      "source": [
        "# Exercise 20\n",
        "# Write a function definition named is_negative_even that takes in a number and returns True or False if the value is both less than zero and even.\n",
        "\n",
        "def is_negative_even(x):\n",
        "  return (x < 0) and (x % 2 == 0)\n",
        "\n",
        "assert is_negative_even(-4) == True, \"Double check your syntax and logic\" \n",
        "assert is_negative_even(positive_odd_number) == False, \"Double check your syntax and logic\"\n",
        "assert is_negative_even(positive_even_number) == False, \"Double check your syntax and logic\"\n",
        "assert is_negative_even(negative_odd_number) == False, \"Double check your syntax and logic\"\n",
        "assert is_negative_even(negative_even_number) == True, \"Double check your syntax and logic\"\n",
        "print(\"Exercise 20 is correct.\")"
      ],
      "execution_count": null,
      "outputs": [
        {
          "output_type": "stream",
          "text": [
            "Exercise 20 is correct.\n"
          ],
          "name": "stdout"
        }
      ]
    },
    {
      "cell_type": "code",
      "metadata": {
        "id": "6YAmd1rpPIw7",
        "colab": {
          "base_uri": "https://localhost:8080/"
        },
        "outputId": "eb030fb6-7937-4082-87ea-33a4238ca02a"
      },
      "source": [
        "# Exercise 21\n",
        "# Write a function definition named half that takes in a number and returns half the provided number.\n",
        "\n",
        "def half(x):\n",
        "  return x/2\n",
        "\n",
        "assert half(4) == 2\n",
        "assert half(5) == 2.5\n",
        "assert half(positive_odd_number) == positive_odd_number / 2\n",
        "assert half(positive_even_number) == positive_even_number / 2\n",
        "assert half(negative_odd_number) == negative_odd_number / 2\n",
        "assert half(negative_even_number) == negative_even_number / 2\n",
        "print(\"Exercise 21 is correct.\")"
      ],
      "execution_count": null,
      "outputs": [
        {
          "output_type": "stream",
          "text": [
            "Exercise 21 is correct.\n"
          ],
          "name": "stdout"
        }
      ]
    },
    {
      "cell_type": "code",
      "metadata": {
        "id": "xc0e-E1SPIw7",
        "colab": {
          "base_uri": "https://localhost:8080/"
        },
        "outputId": "427ae5e3-ad38-4bbd-ab1d-06a7c3be5642"
      },
      "source": [
        "# Exercise 22\n",
        "# Write a function definition named double that takes in a number and returns double the provided number.\n",
        "\n",
        "def double(x):\n",
        "  return x * 2\n",
        "\n",
        "assert double(4) == 8\n",
        "assert double(5) == 10\n",
        "assert double(positive_odd_number) == positive_odd_number * 2\n",
        "assert double(positive_even_number) == positive_even_number * 2\n",
        "assert double(negative_odd_number) == negative_odd_number * 2\n",
        "assert double(negative_even_number) == negative_even_number * 2\n",
        "print(\"Exercise 22 is correct.\")"
      ],
      "execution_count": null,
      "outputs": [
        {
          "output_type": "stream",
          "text": [
            "Exercise 22 is correct.\n"
          ],
          "name": "stdout"
        }
      ]
    },
    {
      "cell_type": "code",
      "metadata": {
        "id": "LLKd_8CTPIw8",
        "colab": {
          "base_uri": "https://localhost:8080/"
        },
        "outputId": "a88895de-83f3-428f-98e1-99f561969737"
      },
      "source": [
        "# Exercise 23\n",
        "# Write a function definition named triple that takes in a number and returns triple the provided number.\n",
        "\n",
        "def triple(x):\n",
        "  return x * 3\n",
        "\n",
        "assert triple(4) == 12\n",
        "assert triple(5) == 15\n",
        "assert triple(positive_odd_number) == positive_odd_number * 3\n",
        "assert triple(positive_even_number) == positive_even_number * 3\n",
        "assert triple(negative_odd_number) == negative_odd_number * 3\n",
        "assert triple(negative_even_number) == negative_even_number * 3\n",
        "print(\"Exercise 23 is correct.\")"
      ],
      "execution_count": null,
      "outputs": [
        {
          "output_type": "stream",
          "text": [
            "Exercise 23 is correct.\n"
          ],
          "name": "stdout"
        }
      ]
    },
    {
      "cell_type": "code",
      "metadata": {
        "id": "cKg13r59PIw9",
        "colab": {
          "base_uri": "https://localhost:8080/"
        },
        "outputId": "1b637a98-792a-4840-8bae-3a2af8369106"
      },
      "source": [
        "# Exercise 24\n",
        "# Write a function definition named reverse_sign that takes in a number and returns the provided number but with the sign reversed.\n",
        "\n",
        "def reverse_sign(x):\n",
        "  return x * (-1)\n",
        "assert reverse_sign(4) == -4\n",
        "assert reverse_sign(-5) == 5\n",
        "assert reverse_sign(positive_odd_number) == positive_odd_number * -1\n",
        "assert reverse_sign(positive_even_number) == positive_even_number * -1\n",
        "assert reverse_sign(negative_odd_number) == negative_odd_number * -1\n",
        "assert reverse_sign(negative_even_number) == negative_even_number * -1\n",
        "print(\"Exercise 24 is correct.\")"
      ],
      "execution_count": null,
      "outputs": [
        {
          "output_type": "stream",
          "text": [
            "Exercise 24 is correct.\n"
          ],
          "name": "stdout"
        }
      ]
    },
    {
      "cell_type": "code",
      "metadata": {
        "id": "kKZ448HUPIw9",
        "colab": {
          "base_uri": "https://localhost:8080/"
        },
        "outputId": "086b08d6-aa6e-4d12-c0b0-9a7a5c14f96e"
      },
      "source": [
        "# Exercise 25\n",
        "# Write a function definition named absolute_value that takes in a number and returns the absolute value of the provided number\n",
        "import numpy as np\n",
        "\n",
        "def absolute_value(x):\n",
        "  return abs(x)\n",
        "\n",
        "assert absolute_value(4) == 4\n",
        "assert absolute_value(-5) == 5\n",
        "assert absolute_value(positive_odd_number) == positive_odd_number\n",
        "assert absolute_value(positive_even_number) == positive_even_number\n",
        "assert absolute_value(negative_odd_number) == negative_odd_number * -1\n",
        "assert absolute_value(negative_even_number) == negative_even_number * -1\n",
        "print(\"Exercise 25 is correct.\")"
      ],
      "execution_count": null,
      "outputs": [
        {
          "output_type": "stream",
          "text": [
            "Exercise 25 is correct.\n"
          ],
          "name": "stdout"
        }
      ]
    },
    {
      "cell_type": "code",
      "metadata": {
        "id": "bzI4DoIzPIw-",
        "colab": {
          "base_uri": "https://localhost:8080/"
        },
        "outputId": "d68064d7-bb74-4667-faeb-6b526ecbc6fa"
      },
      "source": [
        "# Exercise 26\n",
        "# Write a function definition named is_multiple_of_three that takes in a number and returns True or False if the number is evenly divisible by 3.\n",
        "\n",
        "def is_multiple_of_three(x):\n",
        "  return x % 3 == 0\n",
        "  \n",
        "assert is_multiple_of_three(3) == True\n",
        "assert is_multiple_of_three(15) == True\n",
        "assert is_multiple_of_three(9) == True\n",
        "assert is_multiple_of_three(4) == False\n",
        "assert is_multiple_of_three(10) == False\n",
        "print(\"Exercise 26 is correct.\")"
      ],
      "execution_count": null,
      "outputs": [
        {
          "output_type": "stream",
          "text": [
            "Exercise 26 is correct.\n"
          ],
          "name": "stdout"
        }
      ]
    },
    {
      "cell_type": "code",
      "metadata": {
        "id": "FT5GqkbTPIw-",
        "colab": {
          "base_uri": "https://localhost:8080/"
        },
        "outputId": "6c70ed6a-0207-4feb-ea3e-c38167f373d8"
      },
      "source": [
        "# Exercise 27\n",
        "# Write a function definition named is_multiple_of_five that takes in a number and returns True or False if the number is evenly divisible by 5.\n",
        "\n",
        "def is_multiple_of_five(x):\n",
        "  return x % 5 == 0\n",
        "\n",
        "\n",
        "\n",
        "assert is_multiple_of_five(3) == False\n",
        "assert is_multiple_of_five(15) == True\n",
        "assert is_multiple_of_five(9) == False\n",
        "assert is_multiple_of_five(4) == False\n",
        "assert is_multiple_of_five(10) == True\n",
        "print(\"Exercise 27 is correct.\")"
      ],
      "execution_count": null,
      "outputs": [
        {
          "output_type": "stream",
          "text": [
            "Exercise 27 is correct.\n"
          ],
          "name": "stdout"
        }
      ]
    },
    {
      "cell_type": "code",
      "metadata": {
        "id": "Hg8zx4sVPIw-",
        "colab": {
          "base_uri": "https://localhost:8080/"
        },
        "outputId": "2e02f34b-bce0-4f04-a798-7cc73d992565"
      },
      "source": [
        "# Exercise 28\n",
        "# Write a function definition named is_multiple_of_both_three_and_five that takes in a number and returns True or False if the number is evenly divisible by both 3 and 5.\n",
        "\n",
        "def is_multiple_of_both_three_and_five(x):\n",
        "  return x % 5 == 0 and x % 3 == 0\n",
        "\n",
        "\n",
        "assert is_multiple_of_both_three_and_five(15) == True\n",
        "assert is_multiple_of_both_three_and_five(45) == True\n",
        "assert is_multiple_of_both_three_and_five(3) == False\n",
        "assert is_multiple_of_both_three_and_five(9) == False\n",
        "assert is_multiple_of_both_three_and_five(4) == False\n",
        "print(\"Exercise 28 is correct.\")"
      ],
      "execution_count": null,
      "outputs": [
        {
          "output_type": "stream",
          "text": [
            "Exercise 28 is correct.\n"
          ],
          "name": "stdout"
        }
      ]
    },
    {
      "cell_type": "code",
      "metadata": {
        "id": "uWlVYecSPIw-",
        "colab": {
          "base_uri": "https://localhost:8080/"
        },
        "outputId": "b31e04df-08c9-4541-a68a-bca579a98fd3"
      },
      "source": [
        "# Exercise 29\n",
        "# Write a function definition named square that takes in a number and returns the number times itself.\n",
        "\n",
        "def square(x):\n",
        "  return x ** 2\n",
        "\n",
        "assert square(3) == 9\n",
        "assert square(2) == 4\n",
        "assert square(9) == 81\n",
        "assert square(positive_odd_number) == positive_odd_number * positive_odd_number\n",
        "print(\"Exercise 29 is correct.\")"
      ],
      "execution_count": null,
      "outputs": [
        {
          "output_type": "stream",
          "text": [
            "Exercise 29 is correct.\n"
          ],
          "name": "stdout"
        }
      ]
    },
    {
      "cell_type": "code",
      "metadata": {
        "id": "EF6vqp_GPIw_",
        "colab": {
          "base_uri": "https://localhost:8080/"
        },
        "outputId": "779ad3e7-a98f-40b0-a4e0-670c9d8ffd2e"
      },
      "source": [
        "# Exercise 30\n",
        "# Write a function definition named add that takes in two numbers and returns the sum.\n",
        "\n",
        "def add(x,y):\n",
        "  return x + y\n",
        "\n",
        "assert add(3, 2) == 5\n",
        "assert add(10, -2) == 8\n",
        "assert add(5, 7) == 12\n",
        "print(\"Exercise 30 is correct.\")"
      ],
      "execution_count": null,
      "outputs": [
        {
          "output_type": "stream",
          "text": [
            "Exercise 30 is correct.\n"
          ],
          "name": "stdout"
        }
      ]
    },
    {
      "cell_type": "code",
      "metadata": {
        "id": "SH0BlnVPPIw_",
        "colab": {
          "base_uri": "https://localhost:8080/"
        },
        "outputId": "dfb99ee5-9855-4554-b405-121eac4f7d33"
      },
      "source": [
        "# Exercise 31\n",
        "# Write a function definition named cube that takes in a number and returns the number times itself, times itself.\n",
        "\n",
        "def cube(x):\n",
        "  return x ** 3\n",
        "\n",
        "assert cube(3) == 27\n",
        "assert cube(2) == 8\n",
        "assert cube(5) == 125\n",
        "assert cube(positive_odd_number) == positive_odd_number * positive_odd_number * positive_odd_number\n",
        "print(\"Exercise 31 is correct.\")"
      ],
      "execution_count": null,
      "outputs": [
        {
          "output_type": "stream",
          "text": [
            "Exercise 31 is correct.\n"
          ],
          "name": "stdout"
        }
      ]
    },
    {
      "cell_type": "code",
      "metadata": {
        "id": "DBfGZLThPIw_",
        "colab": {
          "base_uri": "https://localhost:8080/"
        },
        "outputId": "fb0443a1-3b12-4db5-f376-b167e8434e38"
      },
      "source": [
        "# Exercise 32\n",
        "# Write a function definition named square_root that takes in a number and returns the square root of the provided number\n",
        "\n",
        "def square_root(x):\n",
        "  return np.sqrt(x)\n",
        "\n",
        "assert square_root(4) == 2.0\n",
        "assert square_root(64) == 8.0\n",
        "assert square_root(81) == 9.0\n",
        "print(\"Exercise 32 is correct.\")"
      ],
      "execution_count": null,
      "outputs": [
        {
          "output_type": "stream",
          "text": [
            "Exercise 32 is correct.\n"
          ],
          "name": "stdout"
        }
      ]
    },
    {
      "cell_type": "code",
      "metadata": {
        "id": "S9w_iou9PIxA",
        "colab": {
          "base_uri": "https://localhost:8080/"
        },
        "outputId": "7ba2739e-c5af-4e41-e8ef-f0bc9b29bec0"
      },
      "source": [
        "# Exercise 33\n",
        "# Write a function definition named subtract that takes in two numbers and returns the first minus the second argument.\n",
        "\n",
        "def subtract(x,y):\n",
        "  return x - y\n",
        "\n",
        "assert subtract(8, 6) == 2\n",
        "assert subtract(27, 4) == 23\n",
        "assert subtract(12, 2) == 10\n",
        "print(\"Exercise 33 is correct.\")"
      ],
      "execution_count": null,
      "outputs": [
        {
          "output_type": "stream",
          "text": [
            "Exercise 33 is correct.\n"
          ],
          "name": "stdout"
        }
      ]
    },
    {
      "cell_type": "code",
      "metadata": {
        "id": "G33qur6wPIxA",
        "colab": {
          "base_uri": "https://localhost:8080/"
        },
        "outputId": "1c1c0576-24a2-4691-d4c5-7e5f5f8724f4"
      },
      "source": [
        "# Exercise 34\n",
        "# Write a function definition named multiply that takes in two numbers and returns the first times the second argument.\n",
        "\n",
        "def multiply(x,y):\n",
        "  return x * y\n",
        "\n",
        "assert multiply(2, 1) == 2\n",
        "assert multiply(3, 5) == 15\n",
        "assert multiply(5, 2) == 10\n",
        "print(\"Exercise 34 is correct.\")"
      ],
      "execution_count": null,
      "outputs": [
        {
          "output_type": "stream",
          "text": [
            "Exercise 34 is correct.\n"
          ],
          "name": "stdout"
        }
      ]
    },
    {
      "cell_type": "code",
      "metadata": {
        "id": "WDvJBrfIPIxA",
        "colab": {
          "base_uri": "https://localhost:8080/"
        },
        "outputId": "2ef1b736-dcc7-4d50-d7ec-fec9a981cf35"
      },
      "source": [
        "# Exercise 35\n",
        "# Write a function definition named divide that takes in two numbers and returns the first argument divided by the second argument.\n",
        "\n",
        "def divide(x,y):\n",
        "  return x/y\n",
        "\n",
        "assert divide(27, 9) == 3\n",
        "assert divide(15, 3) == 5\n",
        "assert divide(5, 2) == 2.5\n",
        "assert divide(10, 2) == 5\n",
        "print(\"Exercise 35 is correct.\")"
      ],
      "execution_count": null,
      "outputs": [
        {
          "output_type": "stream",
          "text": [
            "Exercise 35 is correct.\n"
          ],
          "name": "stdout"
        }
      ]
    },
    {
      "cell_type": "code",
      "metadata": {
        "id": "ajATvAhqPIxA",
        "colab": {
          "base_uri": "https://localhost:8080/"
        },
        "outputId": "6e0d2135-8c9f-4851-d400-05f5a86a6ca3"
      },
      "source": [
        "# Exercise 36\n",
        "# Write a function definition named quotient that takes in two numbers and returns only the quotient from dividing the first argument by the second argument.\n",
        "\n",
        "def quotient(x,y):\n",
        "  return x // y\n",
        "\n",
        "assert quotient(27, 9) == 3\n",
        "assert quotient(5, 2) == 2\n",
        "assert quotient(10, 3) == 3\n",
        "print(\"Exercise 36 is correct.\")"
      ],
      "execution_count": null,
      "outputs": [
        {
          "output_type": "stream",
          "text": [
            "Exercise 36 is correct.\n"
          ],
          "name": "stdout"
        }
      ]
    },
    {
      "cell_type": "code",
      "metadata": {
        "id": "qeh4gMNWPIxA",
        "colab": {
          "base_uri": "https://localhost:8080/"
        },
        "outputId": "4a471abc-8556-43d2-d4d4-23587c0bc5fb"
      },
      "source": [
        "# Exercise 37\n",
        "# Write a function definition named remainder that takes in two numbers and returns the remainder of first argument divided by the second argument.\n",
        "\n",
        "def remainder(x,y):\n",
        "  return x % y\n",
        "\n",
        "assert remainder(3, 3) == 0\n",
        "assert remainder(5, 2) == 1\n",
        "assert remainder(7, 5) == 2\n",
        "print(\"Exercise 37 is correct.\")"
      ],
      "execution_count": null,
      "outputs": [
        {
          "output_type": "stream",
          "text": [
            "Exercise 37 is correct.\n"
          ],
          "name": "stdout"
        }
      ]
    },
    {
      "cell_type": "code",
      "metadata": {
        "id": "WxTgGGo_PIxB",
        "colab": {
          "base_uri": "https://localhost:8080/"
        },
        "outputId": "baa64703-a40e-48c0-ddb7-2f8b1f04ab88"
      },
      "source": [
        "# Exercise 38\n",
        "# Write a function definition named sum_of_squares that takes in two numbers, squares each number, then returns the sum of both squares.\n",
        "\n",
        "def sum_of_squares(x,y):\n",
        "  return (x ** 2) + (y ** 2)\n",
        "\n",
        "assert sum_of_squares(3, 2) == 13\n",
        "assert sum_of_squares(5, 2) == 29\n",
        "assert sum_of_squares(2, 4) == 20\n",
        "print(\"Exercise 38 is correct.\")"
      ],
      "execution_count": null,
      "outputs": [
        {
          "output_type": "stream",
          "text": [
            "Exercise 38 is correct.\n"
          ],
          "name": "stdout"
        }
      ]
    },
    {
      "cell_type": "code",
      "metadata": {
        "id": "ktWci2PkPIxB",
        "colab": {
          "base_uri": "https://localhost:8080/"
        },
        "outputId": "aa9871a8-d9e1-43ab-ea22-1685f42eb566"
      },
      "source": [
        "# Exercise 39\n",
        "# Write a function definition named times_two_plus_three that takes in a number, multiplies it by two, adds 3 and returns the result.\n",
        "\n",
        "def times_two_plus_three(x):\n",
        "  return x * 2 + 3\n",
        "\n",
        "\n",
        "assert times_two_plus_three(0) == 3\n",
        "assert times_two_plus_three(1) == 5\n",
        "assert times_two_plus_three(2) == 7\n",
        "assert times_two_plus_three(3) == 9\n",
        "assert times_two_plus_three(5) == 13\n",
        "print(\"Exercise 39 is correct.\")"
      ],
      "execution_count": null,
      "outputs": [
        {
          "output_type": "stream",
          "text": [
            "Exercise 39 is correct.\n"
          ],
          "name": "stdout"
        }
      ]
    },
    {
      "cell_type": "code",
      "metadata": {
        "id": "SoxUyh7cPIxB",
        "colab": {
          "base_uri": "https://localhost:8080/"
        },
        "outputId": "f5bb5c64-8b4b-4cfd-edc5-bffe9622e9d1"
      },
      "source": [
        "# Exercise 40\n",
        "# Write a function definition named area_of_rectangle that takes in two numbers and returns the product.\n",
        "\n",
        "def area_of_rectangle(x,y):\n",
        "  return x * y\n",
        "\n",
        "\n",
        "assert area_of_rectangle(1, 3) == 3\n",
        "assert area_of_rectangle(5, 2) == 10\n",
        "assert area_of_rectangle(2, 7) == 14\n",
        "assert area_of_rectangle(5.3, 10.3) == 54.59\n",
        "print(\"Exercise 40 is correct.\")"
      ],
      "execution_count": null,
      "outputs": [
        {
          "output_type": "stream",
          "text": [
            "Exercise 40 is correct.\n"
          ],
          "name": "stdout"
        }
      ]
    },
    {
      "cell_type": "code",
      "metadata": {
        "id": "RJ2lMpW1PIxB",
        "colab": {
          "base_uri": "https://localhost:8080/"
        },
        "outputId": "141a9f90-9d37-4a14-8ad8-87707bebe594"
      },
      "source": [
        "import math\n",
        "# Exercise 41\n",
        "# Write a function definition named area_of_circle that takes in a number representing a circle's radius and returns the area of the circl\n",
        "\n",
        "def area_of_circle(radius):\n",
        "  return math.pi * radius ** 2\n",
        "\n",
        "assert area_of_circle(3) == 28.274333882308138\n",
        "assert area_of_circle(5) == 78.53981633974483\n",
        "assert area_of_circle(7) == 153.93804002589985\n",
        "print(\"Exercise 41 is correct.\")"
      ],
      "execution_count": null,
      "outputs": [
        {
          "output_type": "stream",
          "text": [
            "Exercise 41 is correct.\n"
          ],
          "name": "stdout"
        }
      ]
    },
    {
      "cell_type": "code",
      "metadata": {
        "id": "PVp-VRIbPIxB",
        "colab": {
          "base_uri": "https://localhost:8080/"
        },
        "outputId": "1f9e2c02-d9dc-42a3-92f5-267b7af509a2"
      },
      "source": [
        "import math\n",
        "# Exercise 42\n",
        "# Write a function definition named circumference that takes in a number representing a circle's radius and returns the circumference.\n",
        "\n",
        "def circumference(radius):\n",
        "  return math.pi * 2 * radius\n",
        "\n",
        "assert circumference(3) == 18.84955592153876\n",
        "assert circumference(5) == 31.41592653589793\n",
        "assert circumference(7) == 43.982297150257104\n",
        "print(\"Exercise 42 is correct.\")"
      ],
      "execution_count": null,
      "outputs": [
        {
          "output_type": "stream",
          "text": [
            "Exercise 42 is correct.\n"
          ],
          "name": "stdout"
        }
      ]
    },
    {
      "cell_type": "markdown",
      "metadata": {
        "id": "P5CqeA9fPIxB"
      },
      "source": [
        "## Functions working with strings\n",
        "If you need some guidance working with the next few problems, recommend reading through [this example code](https://gist.github.com/ryanorsinger/f758599c886549e7615ec43488ae514c)"
      ]
    },
    {
      "cell_type": "code",
      "metadata": {
        "id": "_akRd2KBPIxB",
        "colab": {
          "base_uri": "https://localhost:8080/"
        },
        "outputId": "69fc8c36-f410-44c3-a986-2c605b62c2bb"
      },
      "source": [
        "# Exercise 43\n",
        "# Write a function definition named is_vowel that takes in value and returns True if the value is a, e, i, o, u in upper or lower case.\n",
        "\n",
        "def is_vowel(x):\n",
        "  return x.lower() in \"aeiou\"\n",
        "\n",
        "assert is_vowel(\"a\") == True\n",
        "assert is_vowel(\"U\") == True\n",
        "assert is_vowel(\"banana\") == False\n",
        "assert is_vowel(\"Q\") == False\n",
        "assert is_vowel(\"y\") == False\n",
        "print(\"Exercise 43 is correct.\")"
      ],
      "execution_count": null,
      "outputs": [
        {
          "output_type": "stream",
          "text": [
            "Exercise 43 is correct.\n"
          ],
          "name": "stdout"
        }
      ]
    },
    {
      "cell_type": "code",
      "metadata": {
        "id": "Is8B6CafPIxB",
        "colab": {
          "base_uri": "https://localhost:8080/"
        },
        "outputId": "2bd8d1c8-621a-482d-ef6c-b16c690f8dc2"
      },
      "source": [
        "# Exercise 44\n",
        "# Write a function definition named has_vowels that takes in value and returns True if the string contains any vowels.\n",
        "\n",
        "def has_vowels(x):\n",
        "  for i in x:\n",
        "    if i.lower() in \"aeiou\":\n",
        "      return True\n",
        "  else:\n",
        "     return False\n",
        "  \n",
        "assert has_vowels(\"banana\") == True\n",
        "assert has_vowels(\"ubuntu\") == True\n",
        "assert has_vowels(\"QQQQ\") == False\n",
        "assert has_vowels(\"wyrd\") == False\n",
        "print(\"Exercise 44 is correct.\")"
      ],
      "execution_count": null,
      "outputs": [
        {
          "output_type": "stream",
          "text": [
            "Exercise 44 is correct.\n"
          ],
          "name": "stdout"
        }
      ]
    },
    {
      "cell_type": "code",
      "metadata": {
        "id": "O8Kb8ScWPIxC",
        "colab": {
          "base_uri": "https://localhost:8080/"
        },
        "outputId": "199d20ec-021f-4e04-fad8-61d82d0ccedf"
      },
      "source": [
        "# Exercise 45\n",
        "# Write a function definition named count_vowels that takes in value and returns the count of the number of vowels in a sequence.\n",
        "\n",
        "def count_vowels(letters):\n",
        "  count = 0 \n",
        "  for i in letters: \n",
        "    if i in 'aeiou':\n",
        "      count += 1\n",
        "  return count\n",
        "\n",
        "\n",
        "assert count_vowels(\"banana\") == 3\n",
        "assert count_vowels(\"ubuntu\") == 3\n",
        "assert count_vowels(\"mango\") == 2\n",
        "assert count_vowels(\"QQQQ\") == 0\n",
        "assert count_vowels(\"wyrd\") == 0\n",
        "print(\"Exercise 45 is correct.\")"
      ],
      "execution_count": null,
      "outputs": [
        {
          "output_type": "stream",
          "text": [
            "Exercise 45 is correct.\n"
          ],
          "name": "stdout"
        }
      ]
    },
    {
      "cell_type": "code",
      "metadata": {
        "id": "KAvgSTElPIxC",
        "colab": {
          "base_uri": "https://localhost:8080/"
        },
        "outputId": "00f3cf58-f5cd-404a-fe89-fcf398ea3bf2"
      },
      "source": [
        "# Exercise 46\n",
        "# Write a function definition named remove_vowels that takes in string and returns the string without any vowels\n",
        "\n",
        "def remove_vowels(astring):\n",
        "  for x in astring:\n",
        "    if x.lower() in 'aeiou':\n",
        "        astring = astring.replace(x,'')\n",
        "  return astring   \n",
        " \n",
        "\n",
        "assert remove_vowels(\"banana\") == \"bnn\"\n",
        "assert remove_vowels(\"ubuntu\") == \"bnt\"\n",
        "assert remove_vowels(\"mango\") == \"mng\"\n",
        "assert remove_vowels(\"QQQQ\") == \"QQQQ\"\n",
        "print(\"Exercise 46 is correct.\")"
      ],
      "execution_count": null,
      "outputs": [
        {
          "output_type": "stream",
          "text": [
            "Exercise 46 is correct.\n"
          ],
          "name": "stdout"
        }
      ]
    },
    {
      "cell_type": "code",
      "metadata": {
        "id": "u5eg2nbSPIxC",
        "colab": {
          "base_uri": "https://localhost:8080/"
        },
        "outputId": "39361b85-a73a-4b8e-a0b2-bf585a94873b"
      },
      "source": [
        "# Exercise 47\n",
        "# Write a function definition named starts_with_vowel that takes in string and True if the string starts with a vowel\n",
        "\n",
        "def starts_with_vowel(word):\n",
        "  if word[0] in 'aeiou':\n",
        "    return True\n",
        "  else:\n",
        "    return False\n",
        "  \n",
        "\n",
        "assert starts_with_vowel(\"ubuntu\") == True\n",
        "assert starts_with_vowel(\"banana\") == False\n",
        "assert starts_with_vowel(\"mango\") == False\n",
        "print(\"Exercise 47 is correct.\")"
      ],
      "execution_count": null,
      "outputs": [
        {
          "output_type": "stream",
          "text": [
            "Exercise 47 is correct.\n"
          ],
          "name": "stdout"
        }
      ]
    },
    {
      "cell_type": "code",
      "metadata": {
        "id": "f8by8bBXPIxC",
        "colab": {
          "base_uri": "https://localhost:8080/"
        },
        "outputId": "ba5748e7-ab02-43c8-94a8-02f37fe37cfb"
      },
      "source": [
        "# Exercise 48\n",
        "# Write a function definition named ends_with_vowel that takes in string and True if the string ends with a vowel\n",
        "\n",
        "def ends_with_vowel(word):\n",
        "  if word[-1] in 'aeiou':\n",
        "    return True\n",
        "  else:\n",
        "    return False\n",
        "\n",
        "assert ends_with_vowel(\"ubuntu\") == True\n",
        "assert ends_with_vowel(\"banana\") == True\n",
        "assert ends_with_vowel(\"mango\") == True\n",
        "assert ends_with_vowel(\"spinach\") == False\n",
        "print(\"Exercise 48 is correct.\")"
      ],
      "execution_count": null,
      "outputs": [
        {
          "output_type": "stream",
          "text": [
            "Exercise 48 is correct.\n"
          ],
          "name": "stdout"
        }
      ]
    },
    {
      "cell_type": "code",
      "metadata": {
        "id": "3MuE3cmQPIxC",
        "colab": {
          "base_uri": "https://localhost:8080/"
        },
        "outputId": "7af09ee0-941c-49e6-d558-00912968f1ef"
      },
      "source": [
        "# Exercise 49\n",
        "# Write a function definition named starts_and_ends_with_vowel that takes in string and returns True if the string starts and ends with a vowel\n",
        "\n",
        "def starts_and_ends_with_vowel(word):\n",
        "  if word[0] in 'aeiou' and word[-1] in 'aeiou':\n",
        "    return True \n",
        "  else:\n",
        "    return False\n",
        "\n",
        "\n",
        "assert starts_and_ends_with_vowel(\"ubuntu\") == True\n",
        "assert starts_and_ends_with_vowel(\"banana\") == False\n",
        "assert starts_and_ends_with_vowel(\"mango\") == False\n",
        "print(\"Exercise 49 is correct.\")"
      ],
      "execution_count": null,
      "outputs": [
        {
          "output_type": "stream",
          "text": [
            "Exercise 49 is correct.\n"
          ],
          "name": "stdout"
        }
      ]
    },
    {
      "cell_type": "markdown",
      "metadata": {
        "id": "j5WZ-4UrPIxC"
      },
      "source": [
        "## Accessing List Elements"
      ]
    },
    {
      "cell_type": "code",
      "metadata": {
        "id": "NI2SIHxGPIxC",
        "colab": {
          "base_uri": "https://localhost:8080/"
        },
        "outputId": "fb92a7aa-6714-4a14-b661-564d67dedcfd"
      },
      "source": [
        "# Exercise 50\n",
        "# Write a function definition named first that takes in sequence and returns the first value of that sequence.\n",
        "\n",
        "def first(x):\n",
        "  return x[0]\n",
        "\n",
        "assert first(\"ubuntu\") == \"u\"\n",
        "assert first([1, 2, 3]) == 1\n",
        "assert first([\"python\", \"is\", \"awesome\"]) == \"python\"\n",
        "print(\"Exercise 50 is correct.\")"
      ],
      "execution_count": null,
      "outputs": [
        {
          "output_type": "stream",
          "text": [
            "Exercise 50 is correct.\n"
          ],
          "name": "stdout"
        }
      ]
    },
    {
      "cell_type": "code",
      "metadata": {
        "id": "oBoFjqyaPIxC",
        "colab": {
          "base_uri": "https://localhost:8080/"
        },
        "outputId": "e9262f28-65c4-4d61-9ea7-de000ebf9a3a"
      },
      "source": [
        "# Exercise 51\n",
        "# Write a function definition named second that takes in sequence and returns the second value of that sequence.\n",
        "\n",
        "def second(x):\n",
        "  return x[1]\n",
        "\n",
        "assert second(\"ubuntu\") == \"b\"\n",
        "assert second([1, 2, 3]) == 2\n",
        "assert second([\"python\", \"is\", \"awesome\"]) == \"is\"\n",
        "print(\"Exercise 51 is correct.\")"
      ],
      "execution_count": null,
      "outputs": [
        {
          "output_type": "stream",
          "text": [
            "Exercise 51 is correct.\n"
          ],
          "name": "stdout"
        }
      ]
    },
    {
      "cell_type": "code",
      "metadata": {
        "id": "z0ERi1fWPIxC",
        "colab": {
          "base_uri": "https://localhost:8080/"
        },
        "outputId": "ff801761-673d-4449-a680-ffafb2f3c37f"
      },
      "source": [
        "# Exercise 52\n",
        "# Write a function definition named third that takes in sequence and returns the third value of that sequence.\n",
        "\n",
        "def third(x):\n",
        "  return x[2]\n",
        "\n",
        "assert third(\"ubuntu\") == \"u\"\n",
        "assert third([1, 2, 3]) == 3\n",
        "assert third([\"python\", \"is\", \"awesome\"]) == \"awesome\"\n",
        "print(\"Exercise 52 is correct.\")"
      ],
      "execution_count": null,
      "outputs": [
        {
          "output_type": "stream",
          "text": [
            "Exercise 52 is correct.\n"
          ],
          "name": "stdout"
        }
      ]
    },
    {
      "cell_type": "code",
      "metadata": {
        "id": "_TAgwuNtPIxC",
        "colab": {
          "base_uri": "https://localhost:8080/"
        },
        "outputId": "87a0d038-2e50-4ad5-acb4-51aff290bb4a"
      },
      "source": [
        "# Exercise 53\n",
        "# Write a function definition named forth that takes in sequence and returns the forth value of that sequence.\n",
        "\n",
        "def forth(x):\n",
        "  return x[3]\n",
        "\n",
        "\n",
        "\n",
        "assert forth(\"ubuntu\") == \"n\"\n",
        "assert forth([1, 2, 3, 4]) == 4\n",
        "assert forth([\"python\", \"is\", \"awesome\", \"right?\"]) == \"right?\"\n",
        "print(\"Exercise 53 is correct.\")"
      ],
      "execution_count": null,
      "outputs": [
        {
          "output_type": "stream",
          "text": [
            "Exercise 53 is correct.\n"
          ],
          "name": "stdout"
        }
      ]
    },
    {
      "cell_type": "code",
      "metadata": {
        "id": "SNVvUkbMPIxC",
        "colab": {
          "base_uri": "https://localhost:8080/"
        },
        "outputId": "7b3bd399-2d9c-488e-c6ec-6e0d2e4e7b78"
      },
      "source": [
        "# Exercise 54\n",
        "# Write a function definition named last that takes in sequence and returns the last value of that sequence.\n",
        "\n",
        "def last(x):\n",
        "  return x[-1]\n",
        "\n",
        "assert last(\"ubuntu\") == \"u\"\n",
        "assert last([1, 2, 3, 4]) == 4\n",
        "assert last([\"python\", \"is\", \"awesome\"]) == \"awesome\"\n",
        "assert last([\"kiwi\", \"mango\", \"guava\"]) == \"guava\"\n",
        "print(\"Exercise 54 is correct.\")"
      ],
      "execution_count": null,
      "outputs": [
        {
          "output_type": "stream",
          "text": [
            "Exercise 54 is correct.\n"
          ],
          "name": "stdout"
        }
      ]
    },
    {
      "cell_type": "code",
      "metadata": {
        "id": "_0QofA-RPIxD",
        "colab": {
          "base_uri": "https://localhost:8080/"
        },
        "outputId": "c1b3e0f0-b83c-4818-c5e2-0a6dbe1b9865"
      },
      "source": [
        "# Exercise 55\n",
        "# Write a function definition named second_to_last that takes in sequence and returns the second to last value of that sequence.\n",
        "\n",
        "def second_to_last(x):\n",
        "  return x[-2]\n",
        "\n",
        "\n",
        "assert second_to_last(\"ubuntu\") == \"t\"\n",
        "assert second_to_last([1, 2, 3, 4]) == 3\n",
        "assert second_to_last([\"python\", \"is\", \"awesome\"]) == \"is\"\n",
        "assert second_to_last([\"kiwi\", \"mango\", \"guava\"]) == \"mango\"\n",
        "print(\"Exercise 55 is correct.\")"
      ],
      "execution_count": null,
      "outputs": [
        {
          "output_type": "stream",
          "text": [
            "Exercise 55 is correct.\n"
          ],
          "name": "stdout"
        }
      ]
    },
    {
      "cell_type": "code",
      "metadata": {
        "id": "436dNVjlPIxD",
        "colab": {
          "base_uri": "https://localhost:8080/"
        },
        "outputId": "a04a1b1c-7cbf-4ff3-8e4e-814a000d2abe"
      },
      "source": [
        "# Exercise 56\n",
        "# Write a function definition named third_to_last that takes in sequence and returns the third to last value of that sequence.\n",
        "\n",
        "def third_to_last(x):\n",
        "  return x[-3]\n",
        "\n",
        "assert third_to_last(\"ubuntu\") == \"n\"\n",
        "assert third_to_last([1, 2, 3, 4]) == 2\n",
        "assert third_to_last([\"python\", \"is\", \"awesome\"]) == \"python\"\n",
        "assert third_to_last([\"strawberry\", \"kiwi\", \"mango\", \"guava\"]) == \"kiwi\"\n",
        "print(\"Exercise 56 is correct.\")"
      ],
      "execution_count": null,
      "outputs": [
        {
          "output_type": "stream",
          "text": [
            "Exercise 56 is correct.\n"
          ],
          "name": "stdout"
        }
      ]
    },
    {
      "cell_type": "code",
      "metadata": {
        "id": "X3kuHNB2PIxD",
        "colab": {
          "base_uri": "https://localhost:8080/"
        },
        "outputId": "5ca08a48-b9d8-43bc-8c70-ebce87976827"
      },
      "source": [
        "# Exercise 57\n",
        "# Write a function definition named first_and_second that takes in sequence and returns the first and second value of that sequence as a list\n",
        "\n",
        "def first_and_second(x):\n",
        "  return x[:2]\n",
        "\n",
        "assert first_and_second([1, 2, 3, 4]) == [1, 2]\n",
        "assert first_and_second([\"python\", \"is\", \"awesome\"]) == [\"python\", \"is\"]\n",
        "assert first_and_second([\"strawberry\", \"kiwi\", \"mango\", \"guava\"]) == [\"strawberry\", \"kiwi\"]\n",
        "print(\"Exercise 57 is correct.\")"
      ],
      "execution_count": null,
      "outputs": [
        {
          "output_type": "stream",
          "text": [
            "Exercise 57 is correct.\n"
          ],
          "name": "stdout"
        }
      ]
    },
    {
      "cell_type": "code",
      "metadata": {
        "id": "fhfFk06tPIxD",
        "colab": {
          "base_uri": "https://localhost:8080/"
        },
        "outputId": "5763aa45-d5bf-4e29-ca18-314f2054af38"
      },
      "source": [
        "# Exercise 58\n",
        "# Write a function definition named first_and_last that takes in sequence and returns the first and last value of that sequence as a list\n",
        "\n",
        "def first_and_last(x):\n",
        "  return [x[0], x[-1]]\n",
        "\n",
        "assert first_and_last([1, 2, 3, 4]) == [1, 4]\n",
        "assert first_and_last([\"python\", \"is\", \"awesome\"]) == [\"python\", \"awesome\"]\n",
        "assert first_and_last([\"strawberry\", \"kiwi\", \"mango\", \"guava\"]) == [\"strawberry\", \"guava\"]\n",
        "print(\"Exercise 58 is correct.\")"
      ],
      "execution_count": null,
      "outputs": [
        {
          "output_type": "stream",
          "text": [
            "Exercise 58 is correct.\n"
          ],
          "name": "stdout"
        }
      ]
    },
    {
      "cell_type": "code",
      "metadata": {
        "id": "S38mCBfUPIxD",
        "colab": {
          "base_uri": "https://localhost:8080/"
        },
        "outputId": "dbfef76b-4072-4809-81f9-4c1a694a8daf"
      },
      "source": [
        "# Exercise 59\n",
        "# Write a function definition named first_to_last that takes in sequence and returns the sequence with the first value moved to the end of the sequence.\n",
        "\n",
        "def first_to_last(b):\n",
        "   x = b[0]  \n",
        "   b.append(x)\n",
        "   b.pop(0)\n",
        "   return b\n",
        "   \n",
        "\n",
        "assert first_to_last([1, 2, 3, 4]) == [2, 3, 4, 1]\n",
        "assert first_to_last([\"python\", \"is\", \"awesome\"]) == [\"is\", \"awesome\", \"python\"]\n",
        "assert first_to_last([\"strawberry\", \"kiwi\", \"mango\", \"guava\"]) == [\"kiwi\", \"mango\", \"guava\", \"strawberry\"]\n",
        "print(\"Exercise 59 is correct.\")"
      ],
      "execution_count": null,
      "outputs": [
        {
          "output_type": "stream",
          "text": [
            "Exercise 59 is correct.\n"
          ],
          "name": "stdout"
        }
      ]
    },
    {
      "cell_type": "markdown",
      "metadata": {
        "id": "9qV68Lc3PIxD"
      },
      "source": [
        "## Functions to describe data "
      ]
    },
    {
      "cell_type": "code",
      "metadata": {
        "id": "UDfttrqtPIxD",
        "colab": {
          "base_uri": "https://localhost:8080/"
        },
        "outputId": "a84728a7-c6b1-4e92-a996-ca8cc7699b10"
      },
      "source": [
        "# Exercise 60\n",
        "# Write a function definition named sum_all that takes in sequence of numbers and returns all the numbers added together.\n",
        "\n",
        "def sum_all(numbers):\n",
        "  return sum(numbers)\n",
        "  \n",
        "assert sum_all([1, 2, 3, 4]) == 10\n",
        "assert sum_all([3, 3, 3]) == 9\n",
        "assert sum_all([0, 5, 6]) == 11\n",
        "print(\"Exercise 60 is correct.\")"
      ],
      "execution_count": null,
      "outputs": [
        {
          "output_type": "stream",
          "text": [
            "Exercise 60 is correct.\n"
          ],
          "name": "stdout"
        }
      ]
    },
    {
      "cell_type": "code",
      "metadata": {
        "id": "4lbPmqIrPIxD",
        "colab": {
          "base_uri": "https://localhost:8080/"
        },
        "outputId": "c4bf2e85-17e1-48c2-9a0f-c7e9223ec86b"
      },
      "source": [
        "# Exercise 61\n",
        "# Write a function definition named mean that takes in sequence of numbers and returns the average value\n",
        "\n",
        "import numpy as np\n",
        "\n",
        "def mean(x):\n",
        "    return np.mean(x)\n",
        " \n",
        "\n",
        "assert mean([1, 2, 3, 4]) == 2.5\n",
        "assert mean([3, 3, 3]) == 3\n",
        "assert mean([1, 5, 6]) == 4\n",
        "print(\"Exercise 61 is correct.\")"
      ],
      "execution_count": null,
      "outputs": [
        {
          "output_type": "stream",
          "text": [
            "Exercise 61 is correct.\n"
          ],
          "name": "stdout"
        }
      ]
    },
    {
      "cell_type": "code",
      "metadata": {
        "id": "xOZTY715PIxD",
        "colab": {
          "base_uri": "https://localhost:8080/"
        },
        "outputId": "51487295-f823-4104-f1d1-88c38ea57029"
      },
      "source": [
        "# Exercise 62\n",
        "# Write a function definition named median that takes in sequence of numbers and returns the average value\n",
        "\n",
        "def median(x):\n",
        "  return np.median(x)\n",
        "\n",
        "assert median([1, 2, 3, 4, 5]) == 3.0\n",
        "assert median([1, 2, 3]) == 2.0\n",
        "assert median([1, 5, 6]) == 5.0\n",
        "assert median([1, 2, 5, 6]) == 3.5\n",
        "print(\"Exercise 62 is correct.\")"
      ],
      "execution_count": null,
      "outputs": [
        {
          "output_type": "stream",
          "text": [
            "Exercise 62 is correct.\n"
          ],
          "name": "stdout"
        }
      ]
    },
    {
      "cell_type": "code",
      "metadata": {
        "id": "MAC5_wztPIxD",
        "colab": {
          "base_uri": "https://localhost:8080/"
        },
        "outputId": "1e32b917-a318-4670-f3a0-fa73b7643419"
      },
      "source": [
        "# Exercise 63\n",
        "# Write a function definition named mode that takes in sequence of numbers and returns the most commonly occuring value\n",
        "\n",
        "import statistics as stat\n",
        "\n",
        "def mode(x):\n",
        "  return stat.mode(x)\n",
        "\n",
        "assert mode([1, 2, 2, 3, 4]) == 2\n",
        "assert mode([1, 1, 2, 3]) == 1\n",
        "assert mode([2, 2, 3, 3, 3]) == 3\n",
        "print(\"Exercise 63 is correct.\")"
      ],
      "execution_count": null,
      "outputs": [
        {
          "output_type": "stream",
          "text": [
            "Exercise 63 is correct.\n"
          ],
          "name": "stdout"
        }
      ]
    },
    {
      "cell_type": "code",
      "metadata": {
        "id": "2lCqw4fsPIxD",
        "colab": {
          "base_uri": "https://localhost:8080/"
        },
        "outputId": "6cece1d7-f370-4e2b-dfda-b387e51036a3"
      },
      "source": [
        "# Exercise 64\n",
        "# Write a function definition named product_of_all that takes in sequence of numbers and returns the product of multiplying all the numbers together\n",
        "\n",
        "def product_of_all(x):\n",
        "  return np.prod(x)\n",
        "\n",
        "assert product_of_all([1, 2, 3]) == 6\n",
        "assert product_of_all([3, 4, 5]) == 60\n",
        "assert product_of_all([2, 2, 3, 0]) == 0\n",
        "print(\"Exercise 64 is correct.\")"
      ],
      "execution_count": null,
      "outputs": [
        {
          "output_type": "stream",
          "text": [
            "Exercise 64 is correct.\n"
          ],
          "name": "stdout"
        }
      ]
    },
    {
      "cell_type": "markdown",
      "metadata": {
        "id": "HJ_j3nX2PIxD"
      },
      "source": [
        "## Applying functions to lists"
      ]
    },
    {
      "cell_type": "code",
      "metadata": {
        "id": "oBAjNbo0PIxE"
      },
      "source": [
        "# Run this cell in order to use the following list of numbers for the next exercises\n",
        "numbers = [-5, -4, -3, -2, -1, 1, 2, 3, 4, 5] "
      ],
      "execution_count": null,
      "outputs": []
    },
    {
      "cell_type": "code",
      "metadata": {
        "id": "muBQU4i6PIxE",
        "colab": {
          "base_uri": "https://localhost:8080/"
        },
        "outputId": "d66e3e78-609a-4b26-cd70-630828e04f77"
      },
      "source": [
        "# Exercise 65\n",
        "# Write a function definition named get_highest_number that takes in sequence of numbers and returns the largest number.\n",
        "\n",
        "def get_highest_number(x):\n",
        "  return max(x)\n",
        "\n",
        "assert get_highest_number([1, 2, 3]) == 3\n",
        "assert get_highest_number([12, -5, -4, -3, -2, -1, 1, 2, 3, 4, 5]) == 12\n",
        "assert get_highest_number([-5, -3, 1]) == 1\n",
        "print(\"Exercise 65 is correct.\")"
      ],
      "execution_count": null,
      "outputs": [
        {
          "output_type": "stream",
          "text": [
            "Exercise 65 is correct.\n"
          ],
          "name": "stdout"
        }
      ]
    },
    {
      "cell_type": "code",
      "metadata": {
        "id": "NRmapX0oPIxE",
        "colab": {
          "base_uri": "https://localhost:8080/"
        },
        "outputId": "9c591dee-86cd-4206-9392-dd17f352bc73"
      },
      "source": [
        "# Exercise 66\n",
        "# Write a function definition named get_smallest_number that takes in sequence of numbers and returns the smallest number.\n",
        "\n",
        "def get_smallest_number(x):\n",
        "  return min(x)\n",
        "\n",
        "assert get_smallest_number([1, 3, 2]) == 1\n",
        "assert get_smallest_number([5, -5, -4, -3, -2, -1, 1, 2, 3, 4]) == -5\n",
        "assert get_smallest_number([-4, -3, 1, -10]) == -10\n",
        "print(\"Exercise 66 is correct.\")"
      ],
      "execution_count": null,
      "outputs": [
        {
          "output_type": "stream",
          "text": [
            "Exercise 66 is correct.\n"
          ],
          "name": "stdout"
        }
      ]
    },
    {
      "cell_type": "code",
      "metadata": {
        "id": "7Oz0G7pTPIxE",
        "colab": {
          "base_uri": "https://localhost:8080/"
        },
        "outputId": "d2df449f-4b3b-4e59-cad6-50f504cba592"
      },
      "source": [
        "# Exercise 67\n",
        "# Write a function definition named only_odd_numbers that takes in sequence of numbers and returns the odd numbers in a list.\n",
        "\n",
        "def only_odd_numbers(num_list):\n",
        "  return [x for x in num_list if x % 2 != 0]\n",
        "  \n",
        "\n",
        "assert only_odd_numbers([1, 2, 3]) == [1, 3]\n",
        "assert only_odd_numbers([-5, -4, -3, -2, -1, 1, 2, 3, 4, 5]) == [-5, -3, -1, 1, 3, 5]\n",
        "assert only_odd_numbers([-4, -3, 1]) == [-3, 1]\n",
        "print(\"Exercise 67 is correct.\")"
      ],
      "execution_count": null,
      "outputs": [
        {
          "output_type": "stream",
          "text": [
            "Exercise 67 is correct.\n"
          ],
          "name": "stdout"
        }
      ]
    },
    {
      "cell_type": "code",
      "metadata": {
        "id": "xPEUVEoSPIxE",
        "colab": {
          "base_uri": "https://localhost:8080/"
        },
        "outputId": "d274edce-94fc-4d0a-a370-4aee9ed79bfd"
      },
      "source": [
        "# Exercise 68\n",
        "# Write a function definition named only_even_numbers that takes in sequence of numbers and returns the even numbers in a list.\n",
        "\n",
        "def only_even_numbers(num_list):\n",
        "  return [x for x in num_list if x % 2 == 0]\n",
        " \n",
        "\n",
        "assert only_even_numbers([1, 2, 3]) == [2]\n",
        "assert only_even_numbers([-5, -4, -3, -2, -1, 1, 2, 3, 4, 5]) == [-4, -2, 2, 4]\n",
        "assert only_even_numbers([-4, -3, 1]) == [-4]\n",
        "print(\"Exercise 68 is correct.\")"
      ],
      "execution_count": null,
      "outputs": [
        {
          "output_type": "stream",
          "text": [
            "Exercise 68 is correct.\n"
          ],
          "name": "stdout"
        }
      ]
    },
    {
      "cell_type": "code",
      "metadata": {
        "id": "cMnwbQoXPIxE",
        "colab": {
          "base_uri": "https://localhost:8080/"
        },
        "outputId": "97988619-d38a-4655-cd84-98fc2b4a9c9b"
      },
      "source": [
        "# Exercise 69\n",
        "# Write a function definition named only_positive_numbers that takes in sequence of numbers and returns the positive numbers in a list.\n",
        "\n",
        "def only_positive_numbers(num_list):\n",
        "  return [x for x in num_list if x > 0]\n",
        "\n",
        "\n",
        "assert only_positive_numbers([1, 2, 3]) == [1, 2, 3]\n",
        "assert only_positive_numbers([-5, -4, -3, -2, -1, 1, 2, 3, 4, 5]) == [1, 2, 3, 4, 5]\n",
        "assert only_positive_numbers([-4, -3, 1]) == [1]\n",
        "print(\"Exercise 69 is correct.\")"
      ],
      "execution_count": null,
      "outputs": [
        {
          "output_type": "stream",
          "text": [
            "Exercise 69 is correct.\n"
          ],
          "name": "stdout"
        }
      ]
    },
    {
      "cell_type": "code",
      "metadata": {
        "id": "MrNDUHf6PIxE",
        "colab": {
          "base_uri": "https://localhost:8080/"
        },
        "outputId": "9745f9e0-44e5-46ff-f282-44605a711ada"
      },
      "source": [
        "# Exercise 70\n",
        "# Write a function definition named only_negative_numbers that takes in sequence of numbers and returns the negative numbers in a list.\n",
        "\n",
        "def only_negative_numbers(num_list):\n",
        "  return [x for x in num_list if x < 0]\n",
        "\n",
        "assert only_negative_numbers([1, 2, 3]) == []\n",
        "assert only_negative_numbers([-5, -4, -3, -2, -1, 1, 2, 3, 4, 5]) == [-5, -4, -3, -2, -1]\n",
        "assert only_negative_numbers([-4, -3, 1]) == [-4, -3]\n",
        "print(\"Exercise 70 is correct.\")"
      ],
      "execution_count": null,
      "outputs": [
        {
          "output_type": "stream",
          "text": [
            "Exercise 70 is correct.\n"
          ],
          "name": "stdout"
        }
      ]
    },
    {
      "cell_type": "code",
      "metadata": {
        "id": "DNfVVEhOPIxE",
        "colab": {
          "base_uri": "https://localhost:8080/"
        },
        "outputId": "89a8a396-0b41-4d2e-f1dd-67603dcd8c39"
      },
      "source": [
        "# Exercise 71\n",
        "# Write a function definition named has_evens that takes in sequence of numbers and returns True if there are any even numbers in the sequence\n",
        "\n",
        "def has_evens(num_list):\n",
        "  for x in num_list:\n",
        "     if x % 2 == 0:\n",
        "       return True\n",
        "       break\n",
        "  return False\n",
        "\n",
        "\n",
        "assert has_evens([1, 2, 3]) == True\n",
        "assert has_evens([2, 5, 6]) == True\n",
        "assert has_evens([3, 3, 3]) == False\n",
        "assert has_evens([]) == False\n",
        "print(\"Exercise 71 is correct.\")"
      ],
      "execution_count": null,
      "outputs": [
        {
          "output_type": "stream",
          "text": [
            "Exercise 71 is correct.\n"
          ],
          "name": "stdout"
        }
      ]
    },
    {
      "cell_type": "code",
      "metadata": {
        "id": "QWC5-y13PIxE",
        "colab": {
          "base_uri": "https://localhost:8080/"
        },
        "outputId": "f38d1937-6d2a-47be-9a33-41a03e1e3fb3"
      },
      "source": [
        "# Exercise 72\n",
        "# Write a function definition named count_evens that takes in sequence of numbers and returns the number of even numbers\n",
        "\n",
        "def count_evens(num_list):\n",
        "  return(len([x for x in num_list if x % 2 == 0]))\n",
        "\n",
        "\n",
        "assert count_evens([1, 2, 3]) == 1\n",
        "assert count_evens([2, 5, 6]) == 2\n",
        "assert count_evens([3, 3, 3]) == 0\n",
        "assert count_evens([5, 6, 7, 8] ) == 2\n",
        "print(\"Exercise 72 is correct.\")"
      ],
      "execution_count": null,
      "outputs": [
        {
          "output_type": "stream",
          "text": [
            "Exercise 72 is correct.\n"
          ],
          "name": "stdout"
        }
      ]
    },
    {
      "cell_type": "code",
      "metadata": {
        "id": "m8c_dDpxPIxE",
        "colab": {
          "base_uri": "https://localhost:8080/"
        },
        "outputId": "ba3511e7-66e9-4c5a-b0ba-d28143369c5e"
      },
      "source": [
        "# Exercise 73\n",
        "# Write a function definition named has_odds that takes in sequence of numbers and returns True if there are any odd numbers in the sequence\n",
        "\n",
        "\n",
        "def has_odds(num_list):\n",
        "  for x in num_list:\n",
        "     if x % 2 != 0:\n",
        "       return True\n",
        "       break\n",
        "  return False\n",
        "\n",
        "assert has_odds([1, 2, 3]) == True\n",
        "assert has_odds([2, 5, 6]) == True\n",
        "assert has_odds([3, 3, 3]) == True\n",
        "assert has_odds([2, 4, 6]) == False\n",
        "print(\"Exercise 73 is correct.\")"
      ],
      "execution_count": null,
      "outputs": [
        {
          "output_type": "stream",
          "text": [
            "Exercise 73 is correct.\n"
          ],
          "name": "stdout"
        }
      ]
    },
    {
      "cell_type": "code",
      "metadata": {
        "id": "FbsGNpSIPIxE",
        "colab": {
          "base_uri": "https://localhost:8080/"
        },
        "outputId": "a1932a2c-c7c3-47ee-d8bf-bf66c456f408"
      },
      "source": [
        "# Exercise 74\n",
        "# Write a function definition named count_odds that takes in sequence of numbers and returns True if there are any odd numbers in the sequence\n",
        "\n",
        "def count_odds(num_list):\n",
        "  return(len([x for x in num_list if x % 2 != 0]))\n",
        "\n",
        "assert count_odds([1, 2, 3]) == 2\n",
        "assert count_odds([2, 5, 6]) == 1\n",
        "assert count_odds([3, 3, 3]) == 3\n",
        "assert count_odds([2, 4, 6]) == 0\n",
        "print(\"Exercise 74 is correct.\")"
      ],
      "execution_count": null,
      "outputs": [
        {
          "output_type": "stream",
          "text": [
            "Exercise 74 is correct.\n"
          ],
          "name": "stdout"
        }
      ]
    },
    {
      "cell_type": "code",
      "metadata": {
        "id": "Qmjh1N0GPIxE",
        "colab": {
          "base_uri": "https://localhost:8080/"
        },
        "outputId": "a58a8061-0e1d-47cb-a799-0115be39b44d"
      },
      "source": [
        "# Exercise 75\n",
        "# Write a function definition named count_negatives that takes in sequence of numbers and returns a count of the number of negative numbers\n",
        "\n",
        "def count_negatives(num_list):\n",
        "  return(len([x for x in num_list if x < 0]))\n",
        "\n",
        "assert count_negatives([1, -2, 3]) == 1\n",
        "assert count_negatives([2, -5, -6]) == 2\n",
        "assert count_negatives([3, 3, 3]) == 0\n",
        "print(\"Exercise 75 is correct.\")"
      ],
      "execution_count": null,
      "outputs": [
        {
          "output_type": "stream",
          "text": [
            "Exercise 75 is correct.\n"
          ],
          "name": "stdout"
        }
      ]
    },
    {
      "cell_type": "code",
      "metadata": {
        "id": "7UtPO473PIxF",
        "colab": {
          "base_uri": "https://localhost:8080/"
        },
        "outputId": "0cacb53f-4db4-44c4-cb2e-5e1a106fdbff"
      },
      "source": [
        "# Exercise 76\n",
        "# Write a function definition named count_positives that takes in sequence of numbers and returns a count of the number of positive numbers\n",
        "\n",
        "def count_positives(num_list):\n",
        "  return(len([x for x in num_list if x > 0]))\n",
        "\n",
        "assert count_positives([1, -2, 3]) == 2\n",
        "assert count_positives([2, -5, -6]) == 1\n",
        "assert count_positives([3, 3, 3]) == 3\n",
        "assert count_positives([-2, -1, -5]) == 0\n",
        "print(\"Exercise 76 is correct.\")"
      ],
      "execution_count": null,
      "outputs": [
        {
          "output_type": "stream",
          "text": [
            "Exercise 76 is correct.\n"
          ],
          "name": "stdout"
        }
      ]
    },
    {
      "cell_type": "code",
      "metadata": {
        "id": "WaqyLCU8PIxF",
        "colab": {
          "base_uri": "https://localhost:8080/"
        },
        "outputId": "69ad6ebc-69d9-4836-c767-c8b5829de619"
      },
      "source": [
        "# Exercise 77\n",
        "# Write a function definition named only_positive_evens that takes in sequence of numbers and returns a list containing all the positive evens from the sequence\n",
        "\n",
        "def only_positive_evens(num_list):\n",
        "  return [x for x in num_list if x > 0 and x % 2 == 0]\n",
        "\n",
        "assert only_positive_evens([1, -2, 3]) == []\n",
        "assert only_positive_evens([2, -5, -6]) == [2]\n",
        "assert only_positive_evens([3, 3, 4, 6]) == [4, 6]\n",
        "assert only_positive_evens([2, 3, 4, -1, -5]) == [2, 4]\n",
        "print(\"Exercise 77 is correct.\")"
      ],
      "execution_count": null,
      "outputs": [
        {
          "output_type": "stream",
          "text": [
            "Exercise 77 is correct.\n"
          ],
          "name": "stdout"
        }
      ]
    },
    {
      "cell_type": "code",
      "metadata": {
        "id": "eOamtoZCPIxF",
        "colab": {
          "base_uri": "https://localhost:8080/"
        },
        "outputId": "a6bc8501-e14f-4f04-901b-c90a2c4a5304"
      },
      "source": [
        "# Exercise 78\n",
        "# Write a function definition named only_positive_odds that takes in sequence of numbers and returns a list containing all the positive odd numbers from the sequence\n",
        "\n",
        "def only_positive_odds(num_list):\n",
        "  return [x for x in num_list if x > 0 and x % 2 != 0]\n",
        "\n",
        "assert only_positive_odds([1, -2, 3]) == [1, 3]\n",
        "assert only_positive_odds([2, -5, -6]) == []\n",
        "assert only_positive_odds([3, 3, 4, 6]) == [3, 3]\n",
        "assert only_positive_odds([2, 3, 4, -1, -5]) == [3]\n",
        "print(\"Exercise 78 is correct.\")"
      ],
      "execution_count": null,
      "outputs": [
        {
          "output_type": "stream",
          "text": [
            "Exercise 78 is correct.\n"
          ],
          "name": "stdout"
        }
      ]
    },
    {
      "cell_type": "code",
      "metadata": {
        "id": "e3wTMhhHPIxF",
        "colab": {
          "base_uri": "https://localhost:8080/"
        },
        "outputId": "ccef186a-8556-4c89-dd6f-2f9ff8a630a2"
      },
      "source": [
        "# Exercise 79\n",
        "# Write a function definition named only_negative_evens that takes in sequence of numbers and returns a list containing all the negative even numbers from the sequence\n",
        "\n",
        "def only_negative_evens(num_list):\n",
        "  return [x for x in num_list if x < 0 and x % 2 == 0]\n",
        "\n",
        "assert only_negative_evens([1, -2, 3]) == [-2]\n",
        "assert only_negative_evens([2, -5, -6]) == [-6]\n",
        "assert only_negative_evens([3, 3, 4, 6]) == []\n",
        "assert only_negative_evens([-2, 3, 4, -1, -4]) == [-2, -4]\n",
        "print(\"Exercise 79 is correct.\")"
      ],
      "execution_count": null,
      "outputs": [
        {
          "output_type": "stream",
          "text": [
            "Exercise 79 is correct.\n"
          ],
          "name": "stdout"
        }
      ]
    },
    {
      "cell_type": "code",
      "metadata": {
        "id": "Iw7mqZ03PIxF",
        "colab": {
          "base_uri": "https://localhost:8080/"
        },
        "outputId": "71715377-ae3f-4f29-8a0f-e3a2f3f82329"
      },
      "source": [
        "# Exercise 80\n",
        "# Write a function definition named only_negative_odds that takes in sequence of numbers and returns a list containing all the negative odd numbers from the sequence\n",
        "\n",
        "def only_negative_odds(num_list):\n",
        "  return [x for x in num_list if x < 0 and x % 2 != 0]\n",
        "\n",
        "assert only_negative_odds([1, -2, 3]) == []\n",
        "assert only_negative_odds([2, -5, -6]) == [-5]\n",
        "assert only_negative_odds([3, 3, 4, 6]) == []\n",
        "assert only_negative_odds([2, -3, 4, -1, -4]) == [-3, -1]\n",
        "print(\"Exercise 80 is correct.\")"
      ],
      "execution_count": null,
      "outputs": [
        {
          "output_type": "stream",
          "text": [
            "Exercise 80 is correct.\n"
          ],
          "name": "stdout"
        }
      ]
    },
    {
      "cell_type": "code",
      "metadata": {
        "id": "JrNB5y2OPIxF",
        "colab": {
          "base_uri": "https://localhost:8080/"
        },
        "outputId": "27676076-8aa0-44e5-84fb-b93395a7f45f"
      },
      "source": [
        "# Exercise 81\n",
        "# Write a function definition named shortest_string that takes in a list of strings and returns the shortest string in the list.\n",
        "\n",
        "def shortest_string(my_list):\n",
        "  return(min((word for word in my_list), key=len))\n",
        "  \n",
        "assert shortest_string([\"kiwi\", \"mango\", \"strawberry\"]) == \"kiwi\"\n",
        "assert shortest_string([\"hello\", \"everybody\"]) == \"hello\"\n",
        "assert shortest_string([\"mary\", \"had\", \"a\", \"little\", \"lamb\"]) == \"a\"\n",
        "print(\"Exercise 81 is correct.\")"
      ],
      "execution_count": null,
      "outputs": [
        {
          "output_type": "stream",
          "text": [
            "Exercise 81 is correct.\n"
          ],
          "name": "stdout"
        }
      ]
    },
    {
      "cell_type": "code",
      "metadata": {
        "id": "z3sWE-vNPIxF",
        "colab": {
          "base_uri": "https://localhost:8080/"
        },
        "outputId": "a9e73bf0-52b6-4180-fa81-be3524bafa5b"
      },
      "source": [
        "# Exercise 82\n",
        "# Write a function definition named longest_string that takes in sequence of strings and returns the longest string in the list.\n",
        "\n",
        "def longest_string(my_list):\n",
        "  return(max((word for word in my_list), key=len))\n",
        "\n",
        "assert longest_string([\"kiwi\", \"mango\", \"strawberry\"]) == \"strawberry\"\n",
        "assert longest_string([\"hello\", \"everybody\"]) == \"everybody\"\n",
        "assert longest_string([\"mary\", \"had\", \"a\", \"little\", \"lamb\"]) == \"little\"\n",
        "print(\"Exercise 82 is correct.\")"
      ],
      "execution_count": null,
      "outputs": [
        {
          "output_type": "stream",
          "text": [
            "Exercise 82 is correct.\n"
          ],
          "name": "stdout"
        }
      ]
    },
    {
      "cell_type": "markdown",
      "metadata": {
        "id": "YEQMVLCRPIxF"
      },
      "source": [
        "## Working with sets\n",
        "**Hint** Take a look at the `set` function in Python, the `set` data type, and built-in `set` methods."
      ]
    },
    {
      "cell_type": "code",
      "metadata": {
        "id": "9mgrCsDXPIxF",
        "colab": {
          "base_uri": "https://localhost:8080/"
        },
        "outputId": "06cd3e25-866d-4ef7-c186-97724cc05e32"
      },
      "source": [
        "# Example set function usage\n",
        "print(set(\"kiwi\"))\n",
        "print(set([1, 2, 2, 3, 3, 3, 4, 4, 4, 4]))"
      ],
      "execution_count": null,
      "outputs": [
        {
          "output_type": "stream",
          "text": [
            "{'i', 'k', 'w'}\n",
            "{1, 2, 3, 4}\n"
          ],
          "name": "stdout"
        }
      ]
    },
    {
      "cell_type": "code",
      "metadata": {
        "id": "WM8xn6WfPIxF",
        "colab": {
          "base_uri": "https://localhost:8080/"
        },
        "outputId": "ffa1cb3b-1bab-41be-c50d-f5d769d3f19b"
      },
      "source": [
        "# Exercise 83\n",
        "# Write a function definition named get_unique_values that takes in a list and returns a set with only the unique values from that list.\n",
        "\n",
        "def get_unique_values(x):\n",
        "  return set(x)\n",
        "\n",
        "assert get_unique_values([\"ant\", \"ant\", \"mosquito\", \"mosquito\", \"ladybug\"]) == {\"ant\", \"mosquito\", \"ladybug\"}\n",
        "assert get_unique_values([\"b\", \"a\", \"n\", \"a\", \"n\", \"a\", \"s\"]) == {\"b\", \"a\", \"n\", \"s\"}\n",
        "assert get_unique_values([\"mary\", \"had\", \"a\", \"little\", \"lamb\", \"little\", \"lamb\", \"little\", \"lamb\"]) == {\"mary\", \"had\", \"a\", \"little\", \"lamb\"}\n",
        "print(\"Exercise 83 is correct.\")"
      ],
      "execution_count": null,
      "outputs": [
        {
          "output_type": "stream",
          "text": [
            "Exercise 83 is correct.\n"
          ],
          "name": "stdout"
        }
      ]
    },
    {
      "cell_type": "code",
      "metadata": {
        "id": "R2QW8KpWPIxF",
        "colab": {
          "base_uri": "https://localhost:8080/"
        },
        "outputId": "2187c943-47e0-4b7d-e82c-3aaaea343ad0"
      },
      "source": [
        "# Exercise 84\n",
        "# Write a function definition named get_unique_values_from_two_lists that takes two lists and returns a single set with only the unique values\n",
        "\n",
        "def get_unique_values_from_two_lists(x,y):\n",
        "  return set(x).union(set(y))\n",
        " \n",
        "assert get_unique_values_from_two_lists([5, 1, 2, 3], [3, 4, 5, 5]) == {1, 2, 3, 4, 5}\n",
        "assert get_unique_values_from_two_lists([1, 1], [2, 2, 3]) == {1, 2, 3}\n",
        "assert get_unique_values_from_two_lists([\"tomato\", \"mango\", \"kiwi\"], [\"eggplant\", \"tomato\", \"broccoli\"]) == {\"tomato\", \"mango\", \"kiwi\", \"eggplant\", \"broccoli\"}\n",
        "print(\"Exercise 84 is correct.\")"
      ],
      "execution_count": null,
      "outputs": [
        {
          "output_type": "stream",
          "text": [
            "Exercise 84 is correct.\n"
          ],
          "name": "stdout"
        }
      ]
    },
    {
      "cell_type": "code",
      "metadata": {
        "id": "-K72EArQPIxG",
        "colab": {
          "base_uri": "https://localhost:8080/"
        },
        "outputId": "85503104-7c3f-43f7-b347-0e6b82f7e39a"
      },
      "source": [
        "# Exercise 85\n",
        "# Write a function definition named get_values_in_common that takes two lists and returns a single set with the values that each list has in common\n",
        "\n",
        "def get_values_in_common(x,y):\n",
        "  return set(x).intersection(set(y))\n",
        "\n",
        "\n",
        "assert get_values_in_common([5, 1, 2, 3], [3, 4, 5, 5]) == {3, 5}\n",
        "assert get_values_in_common([1, 2], [2, 2, 3]) == {2}\n",
        "assert get_values_in_common([\"tomato\", \"mango\", \"kiwi\"], [\"eggplant\", \"tomato\", \"broccoli\"]) == {\"tomato\"}\n",
        "print(\"Exercise 85 is correct.\")"
      ],
      "execution_count": null,
      "outputs": [
        {
          "output_type": "stream",
          "text": [
            "Exercise 85 is correct.\n"
          ],
          "name": "stdout"
        }
      ]
    },
    {
      "cell_type": "code",
      "metadata": {
        "id": "K28eaHjkPIxG",
        "colab": {
          "base_uri": "https://localhost:8080/"
        },
        "outputId": "090640e3-68ef-4c55-9a49-42eaab29bc72"
      },
      "source": [
        "# Exercise 86\n",
        "# Write a function definition named get_values_not_in_common that takes two lists and returns a single set with the values that each list does not have in common\n",
        "\n",
        "def get_values_not_in_common(x,y):\n",
        "  return (set(x)-set(y)).union(set(y)-set(x))\n",
        "\n",
        "assert get_values_not_in_common([5, 1, 2, 3], [3, 4, 5, 5]) == {1, 2, 4}\n",
        "assert get_values_not_in_common([1, 1], [2, 2, 3]) == {1, 2, 3}\n",
        "assert get_values_not_in_common([\"tomato\", \"mango\", \"kiwi\"], [\"eggplant\", \"tomato\", \"broccoli\"]) == {\"mango\", \"kiwi\", \"eggplant\", \"broccoli\"}\n",
        "print(\"Exercise 86 is correct.\")"
      ],
      "execution_count": null,
      "outputs": [
        {
          "output_type": "stream",
          "text": [
            "Exercise 86 is correct.\n"
          ],
          "name": "stdout"
        }
      ]
    },
    {
      "cell_type": "markdown",
      "metadata": {
        "id": "Zkx_J6__PIxG"
      },
      "source": [
        "## Working with Dictionaries\n"
      ]
    },
    {
      "cell_type": "code",
      "metadata": {
        "id": "RVILIGEWPIxG"
      },
      "source": [
        "# Run this cell in order to have these two dictionary variables defined.\n",
        "tukey_paper = {\n",
        "    \"title\": \"The Future of Data Analysis\",\n",
        "    \"author\": \"John W. Tukey\",\n",
        "    \"link\": \"https://projecteuclid.org/euclid.aoms/1177704711\",\n",
        "    \"year_published\": 1962\n",
        "}\n",
        "\n",
        "thomas_paper = {\n",
        "    \"title\": \"A mathematical model of glutathione metabolism\",\n",
        "    \"author\": \"Rachel Thomas\",\n",
        "    \"link\": \"https://www.ncbi.nlm.nih.gov/pubmed/18442411\",\n",
        "    \"year_published\": 2008\n",
        "}"
      ],
      "execution_count": null,
      "outputs": []
    },
    {
      "cell_type": "code",
      "metadata": {
        "id": "tpjrVp7SPIxG",
        "colab": {
          "base_uri": "https://localhost:8080/"
        },
        "outputId": "5d8bfa4f-33c0-4f3b-a7e0-e95d348eeed9"
      },
      "source": [
        "# Exercise 87\n",
        "# Write a function named get_paper_title that takes in a dictionary and returns the title property\n",
        "\n",
        "def get_paper_title(my_dictionary):\n",
        "  return my_dictionary.get(\"title\")\n",
        "\n",
        "assert get_paper_title(tukey_paper) == \"The Future of Data Analysis\"\n",
        "assert get_paper_title(thomas_paper) == \"A mathematical model of glutathione metabolism\"\n",
        "print(\"Exercise 87 is correct.\")"
      ],
      "execution_count": null,
      "outputs": [
        {
          "output_type": "stream",
          "text": [
            "Exercise 87 is correct.\n"
          ],
          "name": "stdout"
        }
      ]
    },
    {
      "cell_type": "code",
      "metadata": {
        "id": "WQwb2N6yPIxG",
        "colab": {
          "base_uri": "https://localhost:8080/"
        },
        "outputId": "e90ebaf5-93ef-4b35-cc07-23096a1e43f9"
      },
      "source": [
        "# Exercise 88\n",
        "# Write a function named get_year_published that takes in a dictionary and returns the value behind the \"year_published\" key.\n",
        "\n",
        "def get_year_published(my_dictionary):\n",
        "  return my_dictionary.get(\"year_published\")\n",
        "\n",
        "assert get_year_published(tukey_paper) == 1962\n",
        "assert get_year_published(thomas_paper) == 2008\n",
        "print(\"Exercise 88 is correct.\")"
      ],
      "execution_count": null,
      "outputs": [
        {
          "output_type": "stream",
          "text": [
            "Exercise 88 is correct.\n"
          ],
          "name": "stdout"
        }
      ]
    },
    {
      "cell_type": "code",
      "metadata": {
        "id": "ijjdFnTfPIxG"
      },
      "source": [
        "# Run this code to create data for the next two questions\n",
        "book = {\n",
        "    \"title\": \"Genetic Algorithms and Machine Learning for Programmers\",\n",
        "    \"price\": 36.99,\n",
        "    \"author\": \"Frances Buontempo\"\n",
        "}"
      ],
      "execution_count": null,
      "outputs": []
    },
    {
      "cell_type": "code",
      "metadata": {
        "id": "8hzcN0bzPIxG",
        "colab": {
          "base_uri": "https://localhost:8080/"
        },
        "outputId": "89d43ee8-d499-46c0-d889-24782c5153f8"
      },
      "source": [
        "# Exercise 89\n",
        "# Write a function named get_price that takes in a dictionary and returns the price\n",
        "\n",
        "def get_price(x):\n",
        "  return x.get(\"price\")\n",
        "\n",
        "assert get_price(book) == 36.99\n",
        "print(\"Exercise 89 is complete.\")"
      ],
      "execution_count": null,
      "outputs": [
        {
          "output_type": "stream",
          "text": [
            "Exercise 89 is complete.\n"
          ],
          "name": "stdout"
        }
      ]
    },
    {
      "cell_type": "code",
      "metadata": {
        "id": "h08iQWvxPIxG",
        "colab": {
          "base_uri": "https://localhost:8080/"
        },
        "outputId": "13b09642-3131-4a0b-8289-1ce9cda7858d"
      },
      "source": [
        "# Exercise 90\n",
        "# Write a function named get_book_author that takes in a dictionary (the above declared book variable) and returns the author's name\n",
        "\n",
        "def get_book_author(x):\n",
        "  return x.get(\"author\")\n",
        "assert get_book_author(book) == \"Frances Buontempo\"\n",
        "print(\"Exercise 90 is complete.\")"
      ],
      "execution_count": null,
      "outputs": [
        {
          "output_type": "stream",
          "text": [
            "Exercise 90 is complete.\n"
          ],
          "name": "stdout"
        }
      ]
    },
    {
      "cell_type": "markdown",
      "metadata": {
        "id": "yGcZEQ8MPIxG"
      },
      "source": [
        "## Working with Lists of Dictionaries\n",
        "**Hint** If you need an example of lists of dictionaries, see [https://gist.github.com/ryanorsinger/fce8154028a924c1073eac24c7c3f409](https://gist.github.com/ryanorsinger/fce8154028a924c1073eac24c7c3f409)"
      ]
    },
    {
      "cell_type": "code",
      "metadata": {
        "id": "rWQO3D91PIxG"
      },
      "source": [
        "# Run this cell in order to have some setup data for the next exercises\n",
        "books = [\n",
        "    {\n",
        "        \"title\": \"Genetic Algorithms and Machine Learning for Programmers\",\n",
        "        \"price\": 36.99,\n",
        "        \"author\": \"Frances Buontempo\"\n",
        "    },\n",
        "    {\n",
        "        \"title\": \"The Visual Display of Quantitative Information\",\n",
        "        \"price\": 38.00,\n",
        "        \"author\": \"Edward Tufte\"\n",
        "    },\n",
        "    {\n",
        "        \"title\": \"Practical Object-Oriented Design\",\n",
        "        \"author\": \"Sandi Metz\",\n",
        "        \"price\": 30.47\n",
        "    },\n",
        "    {\n",
        "        \"title\": \"Weapons of Math Destruction\",\n",
        "        \"author\": \"Cathy O'Neil\",\n",
        "        \"price\": 17.44\n",
        "    }\n",
        "]"
      ],
      "execution_count": 1,
      "outputs": []
    },
    {
      "cell_type": "code",
      "metadata": {
        "id": "yg3zhIC1PIxG",
        "colab": {
          "base_uri": "https://localhost:8080/"
        },
        "outputId": "fcb04513-dfea-4fa8-e65d-50a18fecc70e"
      },
      "source": [
        "# Exercise 91\n",
        "# Write a function named get_number_of_books that takes in a list of objects and returns the number of dictionaries in that list.\n",
        "\n",
        "def get_number_of_books(x):\n",
        "  return len(x)\n",
        "\n",
        "assert get_number_of_books(books) == 4\n",
        "print(\"Exercise 91 is complete.\")"
      ],
      "execution_count": 11,
      "outputs": [
        {
          "output_type": "stream",
          "text": [
            "Exercise 91 is complete.\n"
          ],
          "name": "stdout"
        }
      ]
    },
    {
      "cell_type": "code",
      "metadata": {
        "id": "vb4TfN5kPIxG",
        "colab": {
          "base_uri": "https://localhost:8080/"
        },
        "outputId": "edda5cce-c2d9-40e0-a3de-288958950782"
      },
      "source": [
        "# Exercise 92\n",
        "# Write a function named total_of_book_prices that takes in a list of dictionaries and returns the sum total of all the book prices added together\n",
        "\n",
        "def total_of_book_prices(mylist):\n",
        "  return sum(x[\"price\"] for x in books)\n",
        "\n",
        "assert total_of_book_prices(books) == 122.9\n",
        "print(\"Exercise 92 is complete.\")"
      ],
      "execution_count": 35,
      "outputs": [
        {
          "output_type": "stream",
          "text": [
            "Exercise 92 is complete.\n"
          ],
          "name": "stdout"
        }
      ]
    },
    {
      "cell_type": "code",
      "metadata": {
        "id": "bn2DksWnPIxG",
        "colab": {
          "base_uri": "https://localhost:8080/"
        },
        "outputId": "6220eb5c-990a-4026-be04-1fd381a251f7"
      },
      "source": [
        "# Exercise 93\n",
        "# Write a function named get_average_book_price that takes in a list of dictionaries and returns the average book price.\n",
        "\n",
        "import numpy as np\n",
        "\n",
        "def get_average_book_price(x):\n",
        "  return np.mean([i[\"price\"] for i in books])\n",
        "\n",
        "assert get_average_book_price(books) == 30.725\n",
        "print(\"Exercise 93 is complete.\")"
      ],
      "execution_count": 57,
      "outputs": [
        {
          "output_type": "stream",
          "text": [
            "Exercise 93 is complete.\n"
          ],
          "name": "stdout"
        }
      ]
    },
    {
      "cell_type": "code",
      "metadata": {
        "id": "cFjNBUzBPIxH",
        "colab": {
          "base_uri": "https://localhost:8080/",
          "height": 351
        },
        "outputId": "8334e09a-1c8a-4ec8-d47d-5fa4a54e1fb1"
      },
      "source": [
        "# Exercise 94\n",
        "# Write a function called highest_price_book that takes in the above defined list of dictionaries \"books\" and returns the dictionary containing the title, price, and author of the book with the highest priced book.\n",
        "# Hint: Much like sometimes start functions with a variable set to zero, you may want to create a dictionary with the price set to zero to compare to each dictionary's price in the list\n",
        "\n",
        "def highest_price_book(x):\n",
        "  return dict(max(books, key = \"price\"))\n",
        "  \n",
        " \n",
        "\n",
        "  # def myfunc(somedict):\n",
        "  #   x = list(somedict.values())      \n",
        "  #   for i in x:\n",
        "  #       data = dict_from_otherfunc(i)\n",
        "  #       mylist = [float(max(data.values()))]\n",
        "  #       mydict = dict(zip([i], mylist))\n",
        "  #       return mydict\n",
        "\n",
        "assert highest_price_book(books) == {\n",
        "    \"title\": \"The Visual Display of Quantitative Information\",\n",
        "    \"price\": 38.00,\n",
        "    \"author\": \"Edward Tufte\"}\n",
        "\n",
        "print(\"Exercise 94 is complete\")"
      ],
      "execution_count": 66,
      "outputs": [
        {
          "output_type": "error",
          "ename": "TypeError",
          "evalue": "ignored",
          "traceback": [
            "\u001b[0;31m---------------------------------------------------------------------------\u001b[0m",
            "\u001b[0;31mTypeError\u001b[0m                                 Traceback (most recent call last)",
            "\u001b[0;32m<ipython-input-66-33111a9b3bf7>\u001b[0m in \u001b[0;36m<module>\u001b[0;34m()\u001b[0m\n\u001b[1;32m     16\u001b[0m   \u001b[0;31m#       return mydict\u001b[0m\u001b[0;34m\u001b[0m\u001b[0;34m\u001b[0m\u001b[0;34m\u001b[0m\u001b[0m\n\u001b[1;32m     17\u001b[0m \u001b[0;34m\u001b[0m\u001b[0m\n\u001b[0;32m---> 18\u001b[0;31m assert highest_price_book(books) == {\n\u001b[0m\u001b[1;32m     19\u001b[0m     \u001b[0;34m\"title\"\u001b[0m\u001b[0;34m:\u001b[0m \u001b[0;34m\"The Visual Display of Quantitative Information\"\u001b[0m\u001b[0;34m,\u001b[0m\u001b[0;34m\u001b[0m\u001b[0;34m\u001b[0m\u001b[0m\n\u001b[1;32m     20\u001b[0m     \u001b[0;34m\"price\"\u001b[0m\u001b[0;34m:\u001b[0m \u001b[0;36m38.00\u001b[0m\u001b[0;34m,\u001b[0m\u001b[0;34m\u001b[0m\u001b[0;34m\u001b[0m\u001b[0m\n",
            "\u001b[0;32m<ipython-input-66-33111a9b3bf7>\u001b[0m in \u001b[0;36mhighest_price_book\u001b[0;34m(x)\u001b[0m\n\u001b[1;32m      4\u001b[0m \u001b[0;34m\u001b[0m\u001b[0m\n\u001b[1;32m      5\u001b[0m \u001b[0;32mdef\u001b[0m \u001b[0mhighest_price_book\u001b[0m\u001b[0;34m(\u001b[0m\u001b[0mx\u001b[0m\u001b[0;34m)\u001b[0m\u001b[0;34m:\u001b[0m\u001b[0;34m\u001b[0m\u001b[0;34m\u001b[0m\u001b[0m\n\u001b[0;32m----> 6\u001b[0;31m   \u001b[0;32mreturn\u001b[0m \u001b[0mdict\u001b[0m\u001b[0;34m(\u001b[0m\u001b[0mmax\u001b[0m\u001b[0;34m(\u001b[0m\u001b[0mbooks\u001b[0m\u001b[0;34m,\u001b[0m \u001b[0mkey\u001b[0m \u001b[0;34m=\u001b[0m \u001b[0;34m\"price\"\u001b[0m\u001b[0;34m)\u001b[0m\u001b[0;34m)\u001b[0m\u001b[0;34m\u001b[0m\u001b[0;34m\u001b[0m\u001b[0m\n\u001b[0m\u001b[1;32m      7\u001b[0m \u001b[0;34m\u001b[0m\u001b[0m\n\u001b[1;32m      8\u001b[0m \u001b[0;34m\u001b[0m\u001b[0m\n",
            "\u001b[0;31mTypeError\u001b[0m: 'str' object is not callable"
          ]
        }
      ]
    },
    {
      "cell_type": "code",
      "metadata": {
        "id": "uNcqsWEMPIxH"
      },
      "source": [
        "# Exercise 95\n",
        "# Write a function called lowest_priced_book that takes in the above defined list of dictionaries \"books\" and returns the dictionary containing the title, price, and author of the book with the lowest priced book.\n",
        "# Hint: Much like sometimes start functions with a variable set to zero or float('inf'), you may want to create a dictionary with the price set to float('inf') to compare to each dictionary in the list\n",
        "\n",
        "\n",
        "assert lowest_price_book(books) == {\n",
        "    \"title\": \"Weapons of Math Destruction\",\n",
        "    \"author\": \"Cathy O'Neil\",\n",
        "    \"price\": 17.44\n",
        "}\n",
        "print(\"Exercise 95 is complete.\")"
      ],
      "execution_count": null,
      "outputs": []
    },
    {
      "cell_type": "code",
      "metadata": {
        "id": "mfk9BDoFPIxH"
      },
      "source": [
        "shopping_cart = {\n",
        "    \"tax\": .08,\n",
        "    \"items\": [\n",
        "        {\n",
        "            \"title\": \"orange juice\",\n",
        "            \"price\": 3.99,\n",
        "            \"quantity\": 1\n",
        "        },\n",
        "        {\n",
        "            \"title\": \"rice\",\n",
        "            \"price\": 1.99,\n",
        "            \"quantity\": 3\n",
        "        },\n",
        "        {\n",
        "            \"title\": \"beans\",\n",
        "            \"price\": 0.99,\n",
        "            \"quantity\": 3\n",
        "        },\n",
        "        {\n",
        "            \"title\": \"chili sauce\",\n",
        "            \"price\": 2.99,\n",
        "            \"quantity\": 1\n",
        "        },\n",
        "        {\n",
        "            \"title\": \"chocolate\",\n",
        "            \"price\": 0.75,\n",
        "            \"quantity\": 9\n",
        "        }\n",
        "    ]\n",
        "}"
      ],
      "execution_count": 15,
      "outputs": []
    },
    {
      "cell_type": "code",
      "metadata": {
        "id": "62ULipyhPIxH",
        "colab": {
          "base_uri": "https://localhost:8080/"
        },
        "outputId": "ebcdffd2-ff5d-4573-b1d3-b6c8dfc1a22c"
      },
      "source": [
        "# Exercise 96\n",
        "# Write a function named get_tax_rate that takes in the above shopping cart as input and returns the tax rate.\n",
        "# Hint: How do you access a key's value on a dictionary? The tax rate is one key of the entire shopping_cart dictionary.\n",
        "\n",
        "def get_tax_rate(x):\n",
        "  return shopping_cart.get(\"tax\")\n",
        "\n",
        "assert get_tax_rate(shopping_cart) == .08\n",
        "print(\"Exercise 96 is complete\")"
      ],
      "execution_count": 27,
      "outputs": [
        {
          "output_type": "stream",
          "text": [
            "Exercise 96 is complete\n"
          ],
          "name": "stdout"
        }
      ]
    },
    {
      "cell_type": "code",
      "metadata": {
        "id": "5mjwnMuIPIxH",
        "colab": {
          "base_uri": "https://localhost:8080/"
        },
        "outputId": "956ebda2-fab8-4cad-d33d-761291ee0950"
      },
      "source": [
        "# Exercise 97\n",
        "# Write a function named number_of_item_types that takes in the shopping cart as input and returns the number of unique item types in the shopping cart. \n",
        "# We're not yet using the quantity of each item, but rather focusing on determining how many different types of items are in the cart.\n",
        "\n",
        "def number_of_item_types(x):\n",
        "  return len('items')\n",
        "  \n",
        "\n",
        "assert number_of_item_types(shopping_cart) == 5\n",
        "print(\"Exercise 97 is complete.\")"
      ],
      "execution_count": 71,
      "outputs": [
        {
          "output_type": "stream",
          "text": [
            "Exercise 97 is complete.\n"
          ],
          "name": "stdout"
        }
      ]
    },
    {
      "cell_type": "code",
      "metadata": {
        "id": "vWXnENcLPIxH",
        "colab": {
          "base_uri": "https://localhost:8080/",
          "height": 358
        },
        "outputId": "90010ede-97a7-4ada-f115-4ef5ceeb435b"
      },
      "source": [
        "# Exercise 98\n",
        "# Write a function named total_number_of_items that takes in the shopping cart as input and returns the total number all item quantities.\n",
        "# This should return the sum of all of the quantities from each item type\n",
        "\n",
        "def total_number_of_items(s):\n",
        "  return sum(\"quantity\"() for x in s)\n",
        "\n",
        "assert total_number_of_items(shopping_cart) == 17\n",
        "print(\"Exercise 98 is complete.\")"
      ],
      "execution_count": 83,
      "outputs": [
        {
          "output_type": "error",
          "ename": "TypeError",
          "evalue": "ignored",
          "traceback": [
            "\u001b[0;31m---------------------------------------------------------------------------\u001b[0m",
            "\u001b[0;31mTypeError\u001b[0m                                 Traceback (most recent call last)",
            "\u001b[0;32m<ipython-input-83-c2b27ede3c65>\u001b[0m in \u001b[0;36m<module>\u001b[0;34m()\u001b[0m\n\u001b[1;32m      6\u001b[0m   \u001b[0;32mreturn\u001b[0m \u001b[0msum\u001b[0m\u001b[0;34m(\u001b[0m\u001b[0;34m\"quantity\"\u001b[0m\u001b[0;34m(\u001b[0m\u001b[0;34m)\u001b[0m \u001b[0;32mfor\u001b[0m \u001b[0mx\u001b[0m \u001b[0;32min\u001b[0m \u001b[0ms\u001b[0m\u001b[0;34m)\u001b[0m\u001b[0;34m\u001b[0m\u001b[0;34m\u001b[0m\u001b[0m\n\u001b[1;32m      7\u001b[0m \u001b[0;34m\u001b[0m\u001b[0m\n\u001b[0;32m----> 8\u001b[0;31m \u001b[0;32massert\u001b[0m \u001b[0mtotal_number_of_items\u001b[0m\u001b[0;34m(\u001b[0m\u001b[0mshopping_cart\u001b[0m\u001b[0;34m)\u001b[0m \u001b[0;34m==\u001b[0m \u001b[0;36m17\u001b[0m\u001b[0;34m\u001b[0m\u001b[0;34m\u001b[0m\u001b[0m\n\u001b[0m\u001b[1;32m      9\u001b[0m \u001b[0mprint\u001b[0m\u001b[0;34m(\u001b[0m\u001b[0;34m\"Exercise 98 is complete.\"\u001b[0m\u001b[0;34m)\u001b[0m\u001b[0;34m\u001b[0m\u001b[0;34m\u001b[0m\u001b[0m\n",
            "\u001b[0;32m<ipython-input-83-c2b27ede3c65>\u001b[0m in \u001b[0;36mtotal_number_of_items\u001b[0;34m(s)\u001b[0m\n\u001b[1;32m      4\u001b[0m \u001b[0;34m\u001b[0m\u001b[0m\n\u001b[1;32m      5\u001b[0m \u001b[0;32mdef\u001b[0m \u001b[0mtotal_number_of_items\u001b[0m\u001b[0;34m(\u001b[0m\u001b[0ms\u001b[0m\u001b[0;34m)\u001b[0m\u001b[0;34m:\u001b[0m\u001b[0;34m\u001b[0m\u001b[0;34m\u001b[0m\u001b[0m\n\u001b[0;32m----> 6\u001b[0;31m   \u001b[0;32mreturn\u001b[0m \u001b[0msum\u001b[0m\u001b[0;34m(\u001b[0m\u001b[0;34m\"quantity\"\u001b[0m\u001b[0;34m(\u001b[0m\u001b[0;34m)\u001b[0m \u001b[0;32mfor\u001b[0m \u001b[0mx\u001b[0m \u001b[0;32min\u001b[0m \u001b[0ms\u001b[0m\u001b[0;34m)\u001b[0m\u001b[0;34m\u001b[0m\u001b[0;34m\u001b[0m\u001b[0m\n\u001b[0m\u001b[1;32m      7\u001b[0m \u001b[0;34m\u001b[0m\u001b[0m\n\u001b[1;32m      8\u001b[0m \u001b[0;32massert\u001b[0m \u001b[0mtotal_number_of_items\u001b[0m\u001b[0;34m(\u001b[0m\u001b[0mshopping_cart\u001b[0m\u001b[0;34m)\u001b[0m \u001b[0;34m==\u001b[0m \u001b[0;36m17\u001b[0m\u001b[0;34m\u001b[0m\u001b[0;34m\u001b[0m\u001b[0m\n",
            "\u001b[0;32m<ipython-input-83-c2b27ede3c65>\u001b[0m in \u001b[0;36m<genexpr>\u001b[0;34m(.0)\u001b[0m\n\u001b[1;32m      4\u001b[0m \u001b[0;34m\u001b[0m\u001b[0m\n\u001b[1;32m      5\u001b[0m \u001b[0;32mdef\u001b[0m \u001b[0mtotal_number_of_items\u001b[0m\u001b[0;34m(\u001b[0m\u001b[0ms\u001b[0m\u001b[0;34m)\u001b[0m\u001b[0;34m:\u001b[0m\u001b[0;34m\u001b[0m\u001b[0;34m\u001b[0m\u001b[0m\n\u001b[0;32m----> 6\u001b[0;31m   \u001b[0;32mreturn\u001b[0m \u001b[0msum\u001b[0m\u001b[0;34m(\u001b[0m\u001b[0;34m\"quantity\"\u001b[0m\u001b[0;34m(\u001b[0m\u001b[0;34m)\u001b[0m \u001b[0;32mfor\u001b[0m \u001b[0mx\u001b[0m \u001b[0;32min\u001b[0m \u001b[0ms\u001b[0m\u001b[0;34m)\u001b[0m\u001b[0;34m\u001b[0m\u001b[0;34m\u001b[0m\u001b[0m\n\u001b[0m\u001b[1;32m      7\u001b[0m \u001b[0;34m\u001b[0m\u001b[0m\n\u001b[1;32m      8\u001b[0m \u001b[0;32massert\u001b[0m \u001b[0mtotal_number_of_items\u001b[0m\u001b[0;34m(\u001b[0m\u001b[0mshopping_cart\u001b[0m\u001b[0;34m)\u001b[0m \u001b[0;34m==\u001b[0m \u001b[0;36m17\u001b[0m\u001b[0;34m\u001b[0m\u001b[0;34m\u001b[0m\u001b[0m\n",
            "\u001b[0;31mTypeError\u001b[0m: 'str' object is not callable"
          ]
        }
      ]
    },
    {
      "cell_type": "code",
      "metadata": {
        "id": "brKJ2yTKPIxH"
      },
      "source": [
        "# Exercise 99\n",
        "# Write a function named get_average_item_price that takes in the shopping cart as an input and returns the average of all the item prices.\n",
        "# Hint - This should determine the total price divided by the number of types of items. This does not account for each item type's quantity.\n",
        "assert get_average_item_price(shopping_cart) == 2.1420000000000003\n",
        "print(\"Exercise 99 is complete.\")"
      ],
      "execution_count": null,
      "outputs": []
    },
    {
      "cell_type": "code",
      "metadata": {
        "id": "LIJm886dPIxH"
      },
      "source": [
        "# Exercise 100\n",
        "# Write a function named get_average_spent_per_item that takes in the shopping cart and returns the average of summing each item's quanties times that item's price.\n",
        "# Hint: You may need to set an initial total price and total total quantity to zero, then sum up and divide that total price by the total quantity\n",
        "\n",
        "assert get_average_spent_per_item(shopping_cart) == 1.333529411764706\n",
        "print(\"Exercise 100 is complete.\")"
      ],
      "execution_count": null,
      "outputs": []
    },
    {
      "cell_type": "code",
      "metadata": {
        "id": "DWdhNfISPIxH"
      },
      "source": [
        "# Exercise 101\n",
        "# Write a function named most_spent_on_item that takes in the shopping cart as input and returns the dictionary associated with the item that has the highest price*quantity.\n",
        "# Be sure to do this as programmatically as possible. \n",
        "# Hint: Similarly to how we sometimes begin a function with setting a variable to zero, we need a starting place:\n",
        "# Hint: Consider creating a variable that is a dictionary with the keys \"price\" and \"quantity\" both set to 0. You can then compare each item's price and quantity total to the one from \"most\"\n",
        "\n",
        "assert most_spent_on_item(shopping_cart) == {\n",
        "    \"title\": \"chocolate\",\n",
        "    \"price\": 0.75,\n",
        "    \"quantity\": 9\n",
        "}\n",
        "print(\"Exercise 101 is complete.\")"
      ],
      "execution_count": null,
      "outputs": []
    },
    {
      "cell_type": "markdown",
      "metadata": {
        "id": "-gYL1KN4PIxH"
      },
      "source": [
        "Created by [Ryan Orsinger](https://ryanorsinger.com)\n",
        "\n",
        "Source code on [https://github.com/ryanorsinger/101-exercises](https://github.com/ryanorsinger/101-exercises)"
      ]
    }
  ]
}